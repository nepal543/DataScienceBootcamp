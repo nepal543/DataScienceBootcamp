{
  "nbformat": 4,
  "nbformat_minor": 0,
  "metadata": {
    "colab": {
      "provenance": []
    },
    "kernelspec": {
      "name": "python3",
      "display_name": "Python 3"
    },
    "language_info": {
      "name": "python"
    }
  },
  "cells": [
    {
      "cell_type": "code",
      "execution_count": null,
      "metadata": {
        "colab": {
          "base_uri": "https://localhost:8080/"
        },
        "id": "1TC6elIoz0N9",
        "outputId": "cd87e5ce-bdcd-4cd5-b2f1-2bf22aaae625"
      },
      "outputs": [
        {
          "output_type": "stream",
          "name": "stdout",
          "text": [
            "Enter your salary: 79000\n",
            "Enter the year of service: 8\n",
            "Your bonus is 3950.0\n"
          ]
        }
      ],
      "source": [
        "##1.A company decided to give bonus of 5% to employee if his/her year of service is more than 5 years.\n",
        "#Ask user for their salary and year of service and print the net bonus amount.\n",
        "\n",
        "salary=float(input(\"Enter your salary: \"))\n",
        "year=float(input(\"Enter the year of service: \"))\n",
        "if year >5:\n",
        "  print(\"Your bonus is\",.05*salary)\n",
        "else:\n",
        "  print(\"You will not get bonus\")\n",
        "\n",
        "\n"
      ]
    },
    {
      "cell_type": "code",
      "source": [
        "## 2.Take values of length and breadth of a rectangle from user and check if it is square or not.\n",
        "length=float(input(\"Enter the length of rectangle: \"))\n",
        "breadth=float(input(\"Enter the beadth of rectangle: \"))\n",
        "if length==breadth:\n",
        "  print(\"It is square\")\n",
        "else:\n",
        "  print(\"It is not square\")"
      ],
      "metadata": {
        "colab": {
          "base_uri": "https://localhost:8080/"
        },
        "id": "pq6NJwJt5C4d",
        "outputId": "5b42f8fb-a73b-4644-aa5d-b87544eb8486"
      },
      "execution_count": null,
      "outputs": [
        {
          "output_type": "stream",
          "name": "stdout",
          "text": [
            "Enter the length of rectangle: 4\n",
            "Enter the beadth of rectangle: 5\n",
            "It is not square\n"
          ]
        }
      ]
    },
    {
      "cell_type": "code",
      "source": [
        "###3.Take two int values from user and print greatest among them.\n",
        "value1=int(input(\"Enter the first number: \"))\n",
        "value2=int(input(\"Enter the second number: \"))\n",
        "if value1>value2:\n",
        " Greatest_number=value1\n",
        "elif:\n",
        "  Greatest_number =value2\n",
        "print(\"The greatest number is\" ,Greatest_number)\n",
        "else:\n",
        "  print(\"both are equal\")"
      ],
      "metadata": {
        "colab": {
          "base_uri": "https://localhost:8080/"
        },
        "id": "NraFgQ0_-DoT",
        "outputId": "f5947e5f-4145-4e60-8743-f62bdca1e5bf"
      },
      "execution_count": null,
      "outputs": [
        {
          "output_type": "stream",
          "name": "stdout",
          "text": [
            "Enter the first number: 4\n",
            "Enter the second number: 6\n",
            "The greatest number is 6\n"
          ]
        }
      ]
    },
    {
      "cell_type": "code",
      "source": [
        "##4.A shop will give discount of 10% if the cost of purchased quantity is more than 1000.\n",
        "#Ask user for quantity\n",
        "#Suppose, one unit will cost 100.\n",
        "#Judge and print total cost for user.\n",
        "\n",
        "unit_cost=100\n",
        "purchased_quantity=float(input(\"Enter the cost of purchased quantity: \"))\n",
        "total_cost=100*purchased_quantity\n",
        "\n",
        "if purchased_quantity >1000:\n",
        "  discount=0.10*purchased_quantity\n",
        "  print(\"Your total cost is\",total_cost)\n",
        "else:\n",
        " print(\"Your total cost is\",total_cost)\n",
        "\n"
      ],
      "metadata": {
        "colab": {
          "base_uri": "https://localhost:8080/"
        },
        "id": "Afkf_UGJ_XoJ",
        "outputId": "d3eb5b51-0ec4-42ab-99fa-20902c48fbf7"
      },
      "execution_count": null,
      "outputs": [
        {
          "output_type": "stream",
          "name": "stdout",
          "text": [
            "Enter the cost of purchased quantity: 11\n",
            "Your total cost is 1100.0\n"
          ]
        }
      ]
    },
    {
      "cell_type": "code",
      "source": [
        "\n",
        "##5.A school has following rules for grading system:\n",
        "#a. Below 25 - F\n",
        "#b. 25 to 45 - E\n",
        "#c. 45 to 50 - D\n",
        "#d. 50 to 60 - C\n",
        "#e. 60 to 80 - B\n",
        "#f. Above 80 - A\n",
        "#Ask user to enter marks and print the corresponding grade.\n",
        "\n",
        "mark=float(input(\"Please enter your mark: \"))\n",
        "if mark < 25:\n",
        "  print(\"Your grade is 'F'\")\n",
        "elif mark >=25 and mark <45:\n",
        " print(\"Your grade is 'E'\")\n",
        "elif mark>=45 and mark<50:\n",
        "  print(\"Your grade is 'D'\")\n",
        "elif mark>=50 and mark<60:\n",
        "  print(\"Your grade is 'c'\")\n",
        "elif mark>=60 and mark<80:\n",
        "  print(\"Your grade is 'B'\")\n",
        "else:\n",
        "  print(\"Your grade is 'A'\")"
      ],
      "metadata": {
        "colab": {
          "base_uri": "https://localhost:8080/"
        },
        "id": "QajIfMPsSTN2",
        "outputId": "d86655a6-cb7c-4b30-eabf-177b90fd5b41"
      },
      "execution_count": null,
      "outputs": [
        {
          "output_type": "stream",
          "name": "stdout",
          "text": [
            "Please enter your mark: 5\n",
            "Your grade is 'F'\n"
          ]
        }
      ]
    },
    {
      "cell_type": "code",
      "source": [
        " ##6.Take input of age of 3 people by user and determine oldest and youngest among them.\n",
        "first = int(input(\"Enter first age\"))\n",
        "second = int(input(\"Enter second age\"))\n",
        "third = int(input(\"third age\"))\n",
        "if first >= second and first >= third:\n",
        "  if second>third:\n",
        "    print(\"The youngest is \",third)\n",
        "  elif first==second==third:\n",
        "    print (\"All are equal\")\n",
        "  else:\n",
        "    print(\"The youngest is \",second)\n",
        "  print (\"Oldest is\",first)\n",
        "elif second >= first and second >= third:\n",
        "  if first>third:\n",
        "    print(\"The youngest is \",third)\n",
        "  elif first==second==third:\n",
        "    print (\"All are equal\")\n",
        "  else:\n",
        "    print(\"The youngest is \",first)\n",
        "  print (\"Oldest is\",second)\n",
        "elif third >= first and third >= second:\n",
        "  if second>first:\n",
        "    print(\"The youngest is \",first)\n",
        "  elif first==second==third:\n",
        "    print (\"All are equal\")\n",
        "  else:\n",
        "    print(\"The youngest is \",second)\n",
        "  print (\"Oldest is\",third)\n",
        "\n",
        ""
      ],
      "metadata": {
        "colab": {
          "base_uri": "https://localhost:8080/"
        },
        "id": "sreHbT6yAs9z",
        "outputId": "0ca9650f-8daa-4733-ea1d-d00a1044f4a3"
      },
      "execution_count": 7,
      "outputs": [
        {
          "output_type": "stream",
          "name": "stdout",
          "text": [
            "Enter first age45\n",
            "Enter second age67\n",
            "third age88\n",
            "The youngest is  45\n",
            "Oldest is 88\n"
          ]
        }
      ]
    },
    {
      "cell_type": "code",
      "source": [
        "#7.Write a program to print absolute vlaue of a number entered by user. E.g.-\n",
        "#INPUT: 1        OUTPUT: 1\n",
        "#INPUT: -1        OUTPUT: 1\n",
        "\n",
        "number_1=float(input(\"Enter the first number: \"))\n",
        "number = float(input(\"Enter a number\"))\n",
        "if number<0:\n",
        "  print(number*-1)\n",
        "else:\n",
        "  print(number)\n"
      ],
      "metadata": {
        "id": "pG8g_3CgF9w2"
      },
      "execution_count": null,
      "outputs": []
    },
    {
      "cell_type": "code",
      "source": [
        "# 8.A student will not be allowed to sit in exam if his/her attendence is less than 75%.\n",
        "# Take following input from user\n",
        "# Number of classes held\n",
        "# Number of classes attended.\n",
        "# And print\n",
        "# percentage of class attended\n",
        "# Is student is allowed to sit in exam or not.\n",
        "\n",
        "classes_held=int(input(\"Enter the number of class held: \"))\n",
        "classes_attended=int(input(\"Enter the number of class attended: \"))\n",
        "classes_attended_perecntage=float(classes_attended/classes_held *100)\n",
        "if classes_attended >0.75:\n",
        " print(\"Your class attendance percentage  is\",classes_attended_perecntage,)\n",
        " print(\"You are allowed to sit in exam\")\n",
        "else:\n",
        " print(\"You are not allowed to sit in exam\")\n"
      ],
      "metadata": {
        "colab": {
          "base_uri": "https://localhost:8080/"
        },
        "id": "x19TE72wHSzP",
        "outputId": "57079be8-2f9c-4704-a92d-a92f6cd7bb2e"
      },
      "execution_count": null,
      "outputs": [
        {
          "output_type": "stream",
          "name": "stdout",
          "text": [
            "Enter the number of class held: 400\n",
            "Enter the number of class attended: 234\n",
            "Your class attendance percentage  is 58\n",
            "You are allowed to sit in exam\n"
          ]
        }
      ]
    },
    {
      "cell_type": "code",
      "source": [
        "#9.Modify the above question to allow student to sit if he/she has medical cause. Ask user if he/she has medical cause or not ( 'Y' or 'N' ) and print accordingly.\n",
        "noh = int(input(\"Number of classes held \"))\n",
        "noa = int(input(\"Number of classes attended \"))\n",
        "atten = (noa/noh)*100\n",
        "print (\"Attendence is\",atten)\n",
        "if atten >= 75:\n",
        "  print (\"You are allowed to sit in exam\")\n",
        "else:\n",
        "  medical_cause = input(\"Medical Condition? Type Y if yes Else N\").lower()\n",
        "  if medical_cause == 'y':\n",
        "    print (\"You are allowed due to medical condition \")\n",
        "  else:\n",
        "    print (\"Sorry, you are not allowed. Attend more classes from next time.\")"
      ],
      "metadata": {
        "colab": {
          "base_uri": "https://localhost:8080/"
        },
        "id": "ZgBpGTwLTvg3",
        "outputId": "8d921d40-fe48-4c6a-d53c-cc1c8b2e1eae"
      },
      "execution_count": 10,
      "outputs": [
        {
          "output_type": "stream",
          "name": "stdout",
          "text": [
            "Number of classes held 500\n",
            "Number of classes attended 350\n",
            "Attendence is 70.0\n",
            "Medical Condition? Type Y if yes Else Ny\n",
            "You are allowed due to medical condition \n"
          ]
        }
      ]
    }
  ]
}