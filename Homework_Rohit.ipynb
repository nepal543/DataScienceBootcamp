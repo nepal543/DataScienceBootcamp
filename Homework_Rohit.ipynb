{
  "nbformat": 4,
  "nbformat_minor": 0,
  "metadata": {
    "colab": {
      "provenance": [],
      "authorship_tag": "ABX9TyONDuu8gn85lHEsENV+1bY0",
      "include_colab_link": true
    },
    "kernelspec": {
      "name": "python3",
      "display_name": "Python 3"
    },
    "language_info": {
      "name": "python"
    }
  },
  "cells": [
    {
      "cell_type": "markdown",
      "metadata": {
        "id": "view-in-github",
        "colab_type": "text"
      },
      "source": [
        "<a href=\"https://colab.research.google.com/github/nepal543/DataScienceBootcamp/blob/main/Homework_Rohit.ipynb\" target=\"_parent\"><img src=\"https://colab.research.google.com/assets/colab-badge.svg\" alt=\"Open In Colab\"/></a>"
      ]
    },
    {
      "cell_type": "code",
      "execution_count": null,
      "metadata": {
        "colab": {
          "base_uri": "https://localhost:8080/"
        },
        "id": "nza6yN03m44G",
        "outputId": "57619092-02e9-42ef-9c4c-9b9cd02aa6c8"
      },
      "outputs": [
        {
          "output_type": "stream",
          "name": "stdout",
          "text": [
            "Enter the number: 5\n",
            "value of factorial 1\n",
            "value of k 1\n",
            "value of factorial 2\n",
            "value of k 2\n",
            "value of factorial 12\n",
            "value of k 3\n",
            "value of factorial 144\n",
            "value of k 4\n",
            "value of factorial 2880\n",
            "value of k 5\n",
            "---------------\n"
          ]
        }
      ],
      "source": [
        "#Write a program in Python to display the Factorial of a number.\n",
        "\n",
        "num=int(input(\"Enter the number: \"))\n",
        "factorial=1\n",
        "for k in range(1, num+1):\n",
        "  factorial=factorial*k\n",
        "  print('value of factorial', factorial)\n",
        "  print('value of k', k)\n",
        "  factorial=factorial*k\n",
        "print(\"---------------\")"
      ]
    },
    {
      "cell_type": "code",
      "source": [],
      "metadata": {
        "id": "70WIVPJhmG40"
      },
      "execution_count": null,
      "outputs": []
    },
    {
      "cell_type": "code",
      "source": [],
      "metadata": {
        "id": "ntLWO4Otoe38"
      },
      "execution_count": null,
      "outputs": []
    },
    {
      "cell_type": "code",
      "source": [
        "### WAP to separate positive and negative number from a list\n",
        "demo_lst=[1,2,3,4,5,-9,-8,-6,-4]\n",
        "post_num=[]\n",
        "neg_num=[]\n",
        "for k in demo_lst:\n",
        "  if k<0:\n",
        "    neg_num.append(k)\n",
        "  else:\n",
        "    post_num.append(k)\n",
        "  print(\"post_num\")\n",
        "  print(\"neg_num\")"
      ],
      "metadata": {
        "colab": {
          "base_uri": "https://localhost:8080/"
        },
        "id": "vJn4plcytI0Y",
        "outputId": "12a55364-9507-4113-c6b8-164d0e6c7cc5"
      },
      "execution_count": null,
      "outputs": [
        {
          "output_type": "stream",
          "name": "stdout",
          "text": [
            "post_num\n",
            "neg_num\n",
            "post_num\n",
            "neg_num\n",
            "post_num\n",
            "neg_num\n",
            "post_num\n",
            "neg_num\n",
            "post_num\n",
            "neg_num\n",
            "post_num\n",
            "neg_num\n",
            "post_num\n",
            "neg_num\n",
            "post_num\n",
            "neg_num\n",
            "post_num\n",
            "neg_num\n"
          ]
        }
      ]
    },
    {
      "cell_type": "code",
      "source": [
        "###display fibonnaci series upto 10 terms\n",
        "#a=int(input(\"Enter the number: \"))\n",
        "#b=int(input(\"Enter the number: \"))\n",
        "fibonnaci_lst=[0,1]\n",
        "number_of_terms=int(input(\"number of terms: \"))\n",
        "while len(fibonacci_lst)< number of terms:\n"
      ],
      "metadata": {
        "colab": {
          "base_uri": "https://localhost:8080/"
        },
        "id": "EDMkFakrvsgF",
        "outputId": "33eb8c1c-64b7-4171-ecc3-87fdc175f750"
      },
      "execution_count": null,
      "outputs": [
        {
          "output_type": "stream",
          "name": "stdout",
          "text": [
            "0 11111111111"
          ]
        }
      ]
    },
    {
      "cell_type": "markdown",
      "source": [
        "8/21/2023"
      ],
      "metadata": {
        "id": "dgLuw1RpD1Y8"
      }
    },
    {
      "cell_type": "code",
      "source": [],
      "metadata": {
        "id": "kcI7lGYKD3ed"
      },
      "execution_count": null,
      "outputs": []
    },
    {
      "cell_type": "markdown",
      "source": [],
      "metadata": {
        "id": "1FNvPM3BD6wZ"
      }
    },
    {
      "cell_type": "code",
      "source": [],
      "metadata": {
        "id": "IGCoMKkMEBtU"
      },
      "execution_count": null,
      "outputs": []
    },
    {
      "cell_type": "markdown",
      "source": [
        "###functions pratice\n"
      ],
      "metadata": {
        "id": "x6fy0ssFD9gC"
      }
    },
    {
      "cell_type": "code",
      "source": [
        "#Write a Python Function that accepts a hyphen-separated sequence of words as input and prints the words in a hyphen-separated sequence after sorting them alphabetically.\n",
        "#Sample Items : green-red-yellow-black-white\n",
        "#Expected Result : black-green-red-white-yellow\n",
        "def sort_the_string(words_str):\n",
        "  words_list=words_str.split('_')\n",
        "  sorted_list=sorted(words_list)\n",
        "  print('_'.join(sorted_list))\n",
        "\n",
        "sort_the_string('green-red-yellow-black-white')\n",
        "\n"
      ],
      "metadata": {
        "colab": {
          "base_uri": "https://localhost:8080/"
        },
        "id": "iGKzy-H9ECcU",
        "outputId": "c7fce3ee-2fd5-4481-8a91-874d48aad489"
      },
      "execution_count": null,
      "outputs": [
        {
          "output_type": "stream",
          "name": "stdout",
          "text": [
            "green-red-yellow-black-white\n"
          ]
        }
      ]
    },
    {
      "cell_type": "code",
      "source": [],
      "metadata": {
        "id": "ie033RLNIWkb"
      },
      "execution_count": null,
      "outputs": []
    },
    {
      "cell_type": "code",
      "source": [
        "##Write a function that accepts a string and count consonant and vowels in that string\n",
        "def count_const_vowel(words):\n",
        " vowels_list =['a','e','i','o','u']\n",
        "count_vowel=0\n",
        "count_const=0\n",
        "for k in words.lower():\n",
        "  if k in vowel_list:\n",
        "    count_vowels=count_vowels + 1\n",
        "else:\n",
        "  count_const=count_const +1\n",
        "  print(\"count of consonants\",count_const)\n",
        "  print(\"count of vowels\",count_vowel)\n",
        "\n",
        "count_const_vowel(\"green-red-yellow-black-white\")"
      ],
      "metadata": {
        "colab": {
          "base_uri": "https://localhost:8080/",
          "height": 250
        },
        "id": "ZsPzVNhUGig6",
        "outputId": "eecedaf6-e351-442d-aaec-8985dfb62113"
      },
      "execution_count": null,
      "outputs": [
        {
          "output_type": "error",
          "ename": "NameError",
          "evalue": "ignored",
          "traceback": [
            "\u001b[0;31m---------------------------------------------------------------------------\u001b[0m",
            "\u001b[0;31mNameError\u001b[0m                                 Traceback (most recent call last)",
            "\u001b[0;32m<ipython-input-24-dc8cf92b7055>\u001b[0m in \u001b[0;36m<cell line: 6>\u001b[0;34m()\u001b[0m\n\u001b[1;32m      4\u001b[0m \u001b[0mcount_vowel\u001b[0m\u001b[0;34m=\u001b[0m\u001b[0;36m0\u001b[0m\u001b[0;34m\u001b[0m\u001b[0;34m\u001b[0m\u001b[0m\n\u001b[1;32m      5\u001b[0m \u001b[0mcount_const\u001b[0m\u001b[0;34m=\u001b[0m\u001b[0;36m0\u001b[0m\u001b[0;34m\u001b[0m\u001b[0;34m\u001b[0m\u001b[0m\n\u001b[0;32m----> 6\u001b[0;31m \u001b[0;32mfor\u001b[0m \u001b[0mk\u001b[0m \u001b[0;32min\u001b[0m \u001b[0mwords\u001b[0m\u001b[0;34m.\u001b[0m\u001b[0mlower\u001b[0m\u001b[0;34m(\u001b[0m\u001b[0;34m)\u001b[0m\u001b[0;34m:\u001b[0m\u001b[0;34m\u001b[0m\u001b[0;34m\u001b[0m\u001b[0m\n\u001b[0m\u001b[1;32m      7\u001b[0m   \u001b[0;32mif\u001b[0m \u001b[0mk\u001b[0m \u001b[0;32min\u001b[0m \u001b[0mvowel_list\u001b[0m\u001b[0;34m:\u001b[0m\u001b[0;34m\u001b[0m\u001b[0;34m\u001b[0m\u001b[0m\n\u001b[1;32m      8\u001b[0m     \u001b[0mcount_vowels\u001b[0m\u001b[0;34m=\u001b[0m\u001b[0mcount_vowels\u001b[0m \u001b[0;34m+\u001b[0m \u001b[0;36m1\u001b[0m\u001b[0;34m\u001b[0m\u001b[0;34m\u001b[0m\u001b[0m\n",
            "\u001b[0;31mNameError\u001b[0m: name 'words' is not defined"
          ]
        }
      ]
    },
    {
      "cell_type": "code",
      "source": [],
      "metadata": {
        "id": "3eLTYf8uSQZB"
      },
      "execution_count": null,
      "outputs": []
    },
    {
      "cell_type": "markdown",
      "source": [
        "Write a Python function to check whether a number is \"Perfect\" or not.\n",
        "According to Wikipedia : In number theory, a perfect number is a positive integer that is equal to the sum of its proper positive divisors, that is, the sum of its positive divisors excluding the number itself (also known as its aliquot sum). Equivalently, a perfect number is a number that is half the sum of all of its positive divisors (including itself).\n",
        "Example : The first perfect number is 6, because 1, 2, and 3 are its proper positive divisors, and 1 + 2 + 3 = 6. Equivalently, the number 6 is equal to half the sum of all its positive divisors: ( 1 + 2 + 3 + 6 ) / 2 = 6. The next perfect number is 28 = 1 + 2 + 4 + 7 + 14. This is followed by the perfect numbers 496 and 8128"
      ],
      "metadata": {
        "id": "0f9A4vr5SUmd"
      }
    },
    {
      "cell_type": "code",
      "source": [
        "n=int(input(\"Enter any number: \"))\n",
        "sum1=0\n",
        "for i in range(1,n):\n",
        "  if (n%1==0):\n",
        "    print(i)\n",
        "    sum1=sum1+1\n",
        "if (sum1==n):\n",
        "    print('The number is perfect number')\n",
        "else:\n",
        "     print('The number is not perfect number')"
      ],
      "metadata": {
        "colab": {
          "base_uri": "https://localhost:8080/"
        },
        "id": "2q9Va1uUSWWQ",
        "outputId": "36e675c5-0ab2-455e-8e05-2c59dd074ac7"
      },
      "execution_count": null,
      "outputs": [
        {
          "output_type": "stream",
          "name": "stdout",
          "text": [
            "Enter any number: 18\n",
            "1\n",
            "2\n",
            "3\n",
            "4\n",
            "5\n",
            "6\n",
            "7\n",
            "8\n",
            "9\n",
            "10\n",
            "11\n",
            "12\n",
            "13\n",
            "14\n",
            "15\n",
            "16\n",
            "17\n",
            "The number is not perfect number\n"
          ]
        }
      ]
    },
    {
      "cell_type": "markdown",
      "source": [
        "##### Write a program to print twin primes less than 1000. If two consecutive odd numbers are both prime then they are known as twin primes"
      ],
      "metadata": {
        "id": "Z7Wxhla-X0wl"
      }
    },
    {
      "cell_type": "code",
      "source": [
        "n=int(input(\"Enter the max range: \"))\n",
        "def check_prime_number(num):\n",
        "  for i in range(2,num):\n",
        "    if n%i==0:\n",
        "      return false\n",
        "  return true\n",
        "  def print_prime_pairs(n):\n",
        "    for k in range(3,n,2):\n",
        "     if check_prime_number(k) and chech_prime_number(k+2):\n",
        "      print(\"pair prime numbers\",k,k+2)\n"
      ],
      "metadata": {
        "colab": {
          "base_uri": "https://localhost:8080/"
        },
        "id": "GeNSX1PHX3mm",
        "outputId": "8092c52e-7f7a-4cb5-ea69-be1505353fa5"
      },
      "execution_count": null,
      "outputs": [
        {
          "name": "stdout",
          "output_type": "stream",
          "text": [
            "Enter the max range: 1000\n"
          ]
        }
      ]
    },
    {
      "cell_type": "code",
      "source": [
        "#Write a program to find out the prime factorization of a number. Example: prime factorization  of 56 2 × 2 × 2 × 7\n",
        "##we need to divide the number until it becomes 1\n",
        "n=int(input(\"Enter the number of prime factorization \"))\n",
        "def prime_factors(num):\n",
        "  factors=[]\n",
        "  while num>1:\n",
        "   while num%divisor==0:\n",
        "      print(num,divisor)\n",
        "      num=num/divisor\n",
        "      factors.append(str(divisor))\n",
        "      divisor=divisor+1\n",
        "      return factors\n",
        "def show_prime_factorization(n):\n",
        "  factors=prime_factors(n)\n",
        "  return\"x\".join(factors)\n",
        "show_prime_factorization(n)\n"
      ],
      "metadata": {
        "colab": {
          "base_uri": "https://localhost:8080/",
          "height": 381
        },
        "id": "Pb3HWxQuSN85",
        "outputId": "c45e60ff-6454-4076-b1a2-9c8fe980b8e7"
      },
      "execution_count": null,
      "outputs": [
        {
          "name": "stdout",
          "output_type": "stream",
          "text": [
            "Enter the number of prime factorization 83\n"
          ]
        },
        {
          "output_type": "error",
          "ename": "UnboundLocalError",
          "evalue": "ignored",
          "traceback": [
            "\u001b[0;31m---------------------------------------------------------------------------\u001b[0m",
            "\u001b[0;31mUnboundLocalError\u001b[0m                         Traceback (most recent call last)",
            "\u001b[0;32m<ipython-input-23-168c1993f676>\u001b[0m in \u001b[0;36m<cell line: 16>\u001b[0;34m()\u001b[0m\n\u001b[1;32m     14\u001b[0m   \u001b[0mfactors\u001b[0m\u001b[0;34m=\u001b[0m\u001b[0mprime_factors\u001b[0m\u001b[0;34m(\u001b[0m\u001b[0mn\u001b[0m\u001b[0;34m)\u001b[0m\u001b[0;34m\u001b[0m\u001b[0;34m\u001b[0m\u001b[0m\n\u001b[1;32m     15\u001b[0m   \u001b[0;32mreturn\u001b[0m\u001b[0;34m\"x\"\u001b[0m\u001b[0;34m.\u001b[0m\u001b[0mjoin\u001b[0m\u001b[0;34m(\u001b[0m\u001b[0mfactors\u001b[0m\u001b[0;34m)\u001b[0m\u001b[0;34m\u001b[0m\u001b[0;34m\u001b[0m\u001b[0m\n\u001b[0;32m---> 16\u001b[0;31m \u001b[0mshow_prime_factorization\u001b[0m\u001b[0;34m(\u001b[0m\u001b[0mn\u001b[0m\u001b[0;34m)\u001b[0m\u001b[0;34m\u001b[0m\u001b[0;34m\u001b[0m\u001b[0m\n\u001b[0m",
            "\u001b[0;32m<ipython-input-23-168c1993f676>\u001b[0m in \u001b[0;36mshow_prime_factorization\u001b[0;34m(n)\u001b[0m\n\u001b[1;32m     12\u001b[0m       \u001b[0;32mreturn\u001b[0m \u001b[0mfactors\u001b[0m\u001b[0;34m\u001b[0m\u001b[0;34m\u001b[0m\u001b[0m\n\u001b[1;32m     13\u001b[0m \u001b[0;32mdef\u001b[0m \u001b[0mshow_prime_factorization\u001b[0m\u001b[0;34m(\u001b[0m\u001b[0mn\u001b[0m\u001b[0;34m)\u001b[0m\u001b[0;34m:\u001b[0m\u001b[0;34m\u001b[0m\u001b[0;34m\u001b[0m\u001b[0m\n\u001b[0;32m---> 14\u001b[0;31m   \u001b[0mfactors\u001b[0m\u001b[0;34m=\u001b[0m\u001b[0mprime_factors\u001b[0m\u001b[0;34m(\u001b[0m\u001b[0mn\u001b[0m\u001b[0;34m)\u001b[0m\u001b[0;34m\u001b[0m\u001b[0;34m\u001b[0m\u001b[0m\n\u001b[0m\u001b[1;32m     15\u001b[0m   \u001b[0;32mreturn\u001b[0m\u001b[0;34m\"x\"\u001b[0m\u001b[0;34m.\u001b[0m\u001b[0mjoin\u001b[0m\u001b[0;34m(\u001b[0m\u001b[0mfactors\u001b[0m\u001b[0;34m)\u001b[0m\u001b[0;34m\u001b[0m\u001b[0;34m\u001b[0m\u001b[0m\n\u001b[1;32m     16\u001b[0m \u001b[0mshow_prime_factorization\u001b[0m\u001b[0;34m(\u001b[0m\u001b[0mn\u001b[0m\u001b[0;34m)\u001b[0m\u001b[0;34m\u001b[0m\u001b[0;34m\u001b[0m\u001b[0m\n",
            "\u001b[0;32m<ipython-input-23-168c1993f676>\u001b[0m in \u001b[0;36mprime_factors\u001b[0;34m(num)\u001b[0m\n\u001b[1;32m      5\u001b[0m   \u001b[0mfactors\u001b[0m\u001b[0;34m=\u001b[0m\u001b[0;34m[\u001b[0m\u001b[0;34m]\u001b[0m\u001b[0;34m\u001b[0m\u001b[0;34m\u001b[0m\u001b[0m\n\u001b[1;32m      6\u001b[0m   \u001b[0;32mwhile\u001b[0m \u001b[0mnum\u001b[0m\u001b[0;34m>\u001b[0m\u001b[0;36m1\u001b[0m\u001b[0;34m:\u001b[0m\u001b[0;34m\u001b[0m\u001b[0;34m\u001b[0m\u001b[0m\n\u001b[0;32m----> 7\u001b[0;31m    \u001b[0;32mwhile\u001b[0m \u001b[0mnum\u001b[0m\u001b[0;34m%\u001b[0m\u001b[0mdivisor\u001b[0m\u001b[0;34m==\u001b[0m\u001b[0;36m0\u001b[0m\u001b[0;34m:\u001b[0m\u001b[0;34m\u001b[0m\u001b[0;34m\u001b[0m\u001b[0m\n\u001b[0m\u001b[1;32m      8\u001b[0m       \u001b[0mprint\u001b[0m\u001b[0;34m(\u001b[0m\u001b[0mnum\u001b[0m\u001b[0;34m,\u001b[0m\u001b[0mdivisor\u001b[0m\u001b[0;34m)\u001b[0m\u001b[0;34m\u001b[0m\u001b[0;34m\u001b[0m\u001b[0m\n\u001b[1;32m      9\u001b[0m       \u001b[0mnum\u001b[0m\u001b[0;34m=\u001b[0m\u001b[0mnum\u001b[0m\u001b[0;34m/\u001b[0m\u001b[0mdivisor\u001b[0m\u001b[0;34m\u001b[0m\u001b[0;34m\u001b[0m\u001b[0m\n",
            "\u001b[0;31mUnboundLocalError\u001b[0m: local variable 'divisor' referenced before assignment"
          ]
        }
      ]
    },
    {
      "cell_type": "code",
      "source": [
        "#wo different numbers are called amicable numbers if the sum of the proper divisors of each is equal to the other number. For example 220 and 284 are amicable numbers.\n",
        "#get all divisors of both number\n",
        "#check if sum is equal to original number\n",
        "x=int(input(\"Enter first number\"))\n",
        "y=int(input(\"Enter first number\"))\n",
        "def get_proper_divisors_sum(num):\n",
        "  sum=0\n",
        "  for k in range(2,num):\n",
        "    if num%k==0:\n",
        "      print(k)\n",
        "      sum=sum+k\n",
        "  return sum\n",
        "#get_proper_divisors_sum(16)\n",
        "def check_amicable_numbers(x,y):\n",
        "  if get_proper_divisors_sum(x)==y and get_proper_divisors_sum(y)==x:\n",
        "    print('They are amicable number')\n",
        "  else:\n",
        "    print(\"not amicable number\")\n",
        "check_amicable_numbers(x,y)"
      ],
      "metadata": {
        "colab": {
          "base_uri": "https://localhost:8080/"
        },
        "id": "_XFRjR1GXeEq",
        "outputId": "dec50a9b-defb-4899-ff23-18d86656821f"
      },
      "execution_count": null,
      "outputs": [
        {
          "output_type": "stream",
          "name": "stdout",
          "text": [
            "Enter first number1184\n",
            "Enter first number1210\n",
            "2\n",
            "4\n",
            "8\n",
            "16\n",
            "32\n",
            "37\n",
            "74\n",
            "148\n",
            "296\n",
            "592\n",
            "not amicable number\n"
          ]
        }
      ]
    },
    {
      "cell_type": "code",
      "source": [
        "\n",
        "#Swap first and last element of the list\n",
        "#a=[1,2,5,10,'1']\n",
        "a=[1,2,5,10,'1']\n",
        "#remove function work on values which we might not know\n",
        "#pop works with index more suitable\n",
        "#clear remove everything from the list which is not suggested\n",
        "def swap_elements(list_temp):\n",
        "  first=list_temp.pop(0)\n",
        "  last=list_temp.pop(-1)\n",
        "  list_temp.insert(0,last)\n",
        "  list_temp.append(first)\n",
        "  return list_temp\n",
        "swap_elements(a)\n"
      ],
      "metadata": {
        "colab": {
          "base_uri": "https://localhost:8080/"
        },
        "id": "NbGxCyyIdAGy",
        "outputId": "f5f7aa58-d606-4fc4-c5af-a9cd57e3724d"
      },
      "execution_count": null,
      "outputs": [
        {
          "output_type": "execute_result",
          "data": {
            "text/plain": [
              "['1', 2, 5, 10, 1]"
            ]
          },
          "metadata": {},
          "execution_count": 49
        }
      ]
    },
    {
      "cell_type": "code",
      "source": [
        "#Swap first and last element of the list\n",
        "#a=[1,2,5,10,'1']\n",
        "a=[1,2,5,10,'1']\n",
        "def swap_elements(list_temp):\n",
        "  list_temp[0],list_temp[-1]=list_temp[-1],list_temp[0]\n",
        "  return list_temp\n",
        "swap_elements(a)"
      ],
      "metadata": {
        "colab": {
          "base_uri": "https://localhost:8080/"
        },
        "id": "IZm42yq7i_mA",
        "outputId": "18152aa1-df17-439d-b531-6787cc7d4f8b"
      },
      "execution_count": null,
      "outputs": [
        {
          "output_type": "execute_result",
          "data": {
            "text/plain": [
              "['1', 2, 5, 10, 1]"
            ]
          },
          "metadata": {},
          "execution_count": 51
        }
      ]
    },
    {
      "cell_type": "code",
      "source": [
        "#Create this Matrix and User should be able to replace any number with X (##There is nine number(1,2,3,4,5,6,7,8,9) in matrix. in the place of 9, print x, i.e 1,2,3,4,5,6,7,8,x), replace 9 with x.\n",
        "\n",
        "## matrix=(1,2,3,4,5,6,7,8,9)\n",
        "## replace 9 with x\n",
        "##Create a board using list which has numbers 1 to 9\n",
        "\n",
        "##Now just replace the index which users enter in the list and display the board again\n",
        "\n",
        "def display_board(board_list):\n",
        "    print(\" {} | {} | {} \".format(board_list[0],board_list[1],board_list[2]))\n",
        "    print(\"-----------\")\n",
        "    print(\" {} | {} | {} \".format(board_list[3],board_list[4],board_list[5]))\n",
        "    print(\"-----------\")\n",
        "    print(\" {} | {} | {} \".format(board_list[6],board_list[7],board_list[8]))\n",
        "\n",
        "available = [num for num in range(1,10)]\n",
        "display_board(available)\n",
        "\n",
        "position_to_replace=int(input(\"Please choose between 1 and 9 :- \"))\n",
        "position_to_replace=available.index(position_to_replace)\n",
        "while True:\n",
        "  if position_to_replace<0 or position_to_replace>8:\n",
        "    print(\"Invalid Input\")\n",
        "    position_to_replace=int(input(\"Please choose between 1 and 9 :- \"))\n",
        "  else:\n",
        "    available[position_to_replace]=\"X\"\n",
        "    print(available)\n",
        "    break\n",
        "\n",
        "display_board(available)\n"
      ],
      "metadata": {
        "id": "Tcqx9ptjogS0",
        "colab": {
          "base_uri": "https://localhost:8080/"
        },
        "outputId": "04538923-4ca7-4108-8f0c-1e2efa87debc"
      },
      "execution_count": 1,
      "outputs": [
        {
          "output_type": "stream",
          "name": "stdout",
          "text": [
            " 1 | 2 | 3 \n",
            "-----------\n",
            " 4 | 5 | 6 \n",
            "-----------\n",
            " 7 | 8 | 9 \n",
            "Please choose between 1 and 9 :- 6\n",
            "[1, 2, 3, 4, 5, 'X', 7, 8, 9]\n",
            " 1 | 2 | 3 \n",
            "-----------\n",
            " 4 | 5 | X \n",
            "-----------\n",
            " 7 | 8 | 9 \n"
          ]
        }
      ]
    }
  ]
}