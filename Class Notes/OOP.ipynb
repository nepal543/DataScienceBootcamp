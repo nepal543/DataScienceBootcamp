{
  "nbformat": 4,
  "nbformat_minor": 0,
  "metadata": {
    "colab": {
      "provenance": [],
      "authorship_tag": "ABX9TyM4OosXlXiWfk/CtUHBwQIW",
      "include_colab_link": true
    },
    "kernelspec": {
      "name": "python3",
      "display_name": "Python 3"
    },
    "language_info": {
      "name": "python"
    }
  },
  "cells": [
    {
      "cell_type": "markdown",
      "metadata": {
        "id": "view-in-github",
        "colab_type": "text"
      },
      "source": [
        "<a href=\"https://colab.research.google.com/github/nepal543/DataScienceBootcamp/blob/main/Class%20Notes/OOP.ipynb\" target=\"_parent\"><img src=\"https://colab.research.google.com/assets/colab-badge.svg\" alt=\"Open In Colab\"/></a>"
      ]
    },
    {
      "cell_type": "code",
      "execution_count": null,
      "metadata": {
        "id": "gWkOLU1PjBxn"
      },
      "outputs": [],
      "source": []
    },
    {
      "cell_type": "code",
      "source": [],
      "metadata": {
        "id": "KGLVNFfh4WF5"
      },
      "execution_count": null,
      "outputs": []
    },
    {
      "cell_type": "markdown",
      "source": [
        "Object oriented programming"
      ],
      "metadata": {
        "id": "JgCWijUBjEz3"
      }
    },
    {
      "cell_type": "code",
      "source": [
        "int1=1947 # int1 is object. int1 is class of integer\n",
        "print(type(int1))"
      ],
      "metadata": {
        "colab": {
          "base_uri": "https://localhost:8080/"
        },
        "id": "UPVNrICzjIMF",
        "outputId": "e7020645-baef-4f80-c6ee-432b7978813d"
      },
      "execution_count": null,
      "outputs": [
        {
          "output_type": "stream",
          "name": "stdout",
          "text": [
            "<class 'int'>\n"
          ]
        }
      ]
    },
    {
      "cell_type": "code",
      "source": [
        "int1=3.145\n",
        "print(type(int1))"
      ],
      "metadata": {
        "colab": {
          "base_uri": "https://localhost:8080/"
        },
        "id": "an3wkT7IlHkK",
        "outputId": "645d3f39-38e9-4f84-e2f5-177934d0675a"
      },
      "execution_count": null,
      "outputs": [
        {
          "output_type": "stream",
          "name": "stdout",
          "text": [
            "<class 'float'>\n"
          ]
        }
      ]
    },
    {
      "cell_type": "code",
      "source": [
        "class audi999:\n",
        "  pass\n",
        "obj1=audi999()\n",
        "print(type(obj1))"
      ],
      "metadata": {
        "colab": {
          "base_uri": "https://localhost:8080/"
        },
        "id": "j0rYgg8WmXPB",
        "outputId": "6f21abb9-5997-43e9-a496-c56937201c99"
      },
      "execution_count": null,
      "outputs": [
        {
          "output_type": "stream",
          "name": "stdout",
          "text": [
            "<class '__main__.audi999'>\n"
          ]
        }
      ]
    },
    {
      "cell_type": "code",
      "source": [
        "class university_student: ## creating class and creating object from that class. before pass is class, and after pass is object.\n",
        "  def student_info(): ## student_info is methods, we can have number of methods inside the class.\n",
        "    pass\n",
        "obj1=university_student()"
      ],
      "metadata": {
        "id": "I5xBIkq3nOTM"
      },
      "execution_count": null,
      "outputs": []
    },
    {
      "cell_type": "markdown",
      "source": [
        "#### Pratice Question\n"
      ],
      "metadata": {
        "id": "0NL64dN7pXY5"
      }
    },
    {
      "cell_type": "code",
      "source": [
        "class Takeo:\n",
        "  def employee_info():\n",
        "    pass\n",
        "  obj1=employee_info\n",
        "  print(type(obj1))"
      ],
      "metadata": {
        "colab": {
          "base_uri": "https://localhost:8080/"
        },
        "id": "NCjEdIqNohIf",
        "outputId": "2e743b19-6a1d-4828-bf96-5ee32e7a941e"
      },
      "execution_count": null,
      "outputs": [
        {
          "output_type": "stream",
          "name": "stdout",
          "text": [
            "<class 'function'>\n"
          ]
        }
      ]
    },
    {
      "cell_type": "code",
      "source": [
        "#####\n",
        "class university_student:\n",
        "  def __init__(self,fname,mname,lname,gender,email,contact):\n",
        "   pass\n",
        "obj1=university_student('amrita','sapkota',obj1,'female','sa.amrita502gmail.com',678544566)\n",
        "print(type(obj1))"
      ],
      "metadata": {
        "colab": {
          "base_uri": "https://localhost:8080/"
        },
        "id": "biSbLPeBpT4A",
        "outputId": "e5be30da-1bcd-4efa-f7ed-9e2d15973baf"
      },
      "execution_count": null,
      "outputs": [
        {
          "output_type": "stream",
          "name": "stdout",
          "text": [
            "<class '__main__.university_student'>\n"
          ]
        }
      ]
    },
    {
      "cell_type": "code",
      "source": [
        "class university_student:\n",
        "  def __init__(self,fname,mname,lname,gender,email,contact):\n",
        "    self.fname=fname\n",
        "    self.fname=mname\n",
        "    self.lname=lname\n",
        "    self.gender=gender\n",
        "    self.email=email\n",
        "    self.contact=contact\n",
        "    print(self.fname,self.fname,self.lname,self.gender,self.email, self.contact)"
      ],
      "metadata": {
        "id": "kCsmfiCvrPFP"
      },
      "execution_count": null,
      "outputs": []
    },
    {
      "cell_type": "code",
      "source": [],
      "metadata": {
        "id": "-h_dqXEvwV44"
      },
      "execution_count": null,
      "outputs": []
    },
    {
      "cell_type": "code",
      "source": [
        " obj1=university_student('amrita','sapkota''female','sa.amrita502gmail.com',678544566)\n"
      ],
      "metadata": {
        "colab": {
          "base_uri": "https://localhost:8080/",
          "height": 179
        },
        "id": "MH9pw0NWr4Sv",
        "outputId": "ed48c074-1158-4910-d24d-1e6ac51bcc1a"
      },
      "execution_count": null,
      "outputs": [
        {
          "output_type": "error",
          "ename": "TypeError",
          "evalue": "ignored",
          "traceback": [
            "\u001b[0;31m---------------------------------------------------------------------------\u001b[0m",
            "\u001b[0;31mTypeError\u001b[0m                                 Traceback (most recent call last)",
            "\u001b[0;32m<ipython-input-25-61b9cc4c3d4d>\u001b[0m in \u001b[0;36m<cell line: 1>\u001b[0;34m()\u001b[0m\n\u001b[0;32m----> 1\u001b[0;31m \u001b[0mobj1\u001b[0m\u001b[0;34m=\u001b[0m\u001b[0muniversity_student\u001b[0m\u001b[0;34m(\u001b[0m\u001b[0;34m'amrita'\u001b[0m\u001b[0;34m,\u001b[0m\u001b[0;34m'sapkota'\u001b[0m\u001b[0;34m'female'\u001b[0m\u001b[0;34m,\u001b[0m\u001b[0;34m'sa.amrita502gmail.com'\u001b[0m\u001b[0;34m,\u001b[0m\u001b[0;36m678544566\u001b[0m\u001b[0;34m)\u001b[0m\u001b[0;34m\u001b[0m\u001b[0;34m\u001b[0m\u001b[0m\n\u001b[0m",
            "\u001b[0;31mTypeError\u001b[0m: university_student.__init__() missing 2 required positional arguments: 'email' and 'contact'"
          ]
        }
      ]
    },
    {
      "cell_type": "code",
      "source": [
        "\n",
        "class Movie:\n",
        "  def __init__(self,name,year,actor):\n",
        "    self.name=name\n",
        "    self.year=year\n",
        "    self.actor=actor\n",
        "    print(self.name,self.year,self.actor)\n",
        "    #obj_1= Movie('Jailer',2023)\n",
        "\n"
      ],
      "metadata": {
        "id": "tpGsEJsBtV8l"
      },
      "execution_count": null,
      "outputs": []
    },
    {
      "cell_type": "code",
      "source": [
        "obj_1= Movie('Jailer',2023,'Rajnikant')"
      ],
      "metadata": {
        "colab": {
          "base_uri": "https://localhost:8080/"
        },
        "id": "OTm-5glMumWQ",
        "outputId": "3e3243e5-dbb8-4da0-eba5-ee5678df6dba"
      },
      "execution_count": null,
      "outputs": [
        {
          "output_type": "stream",
          "name": "stdout",
          "text": [
            "Jailer 2023 Rajnikant\n"
          ]
        }
      ]
    },
    {
      "cell_type": "code",
      "source": [
        "class university_student:\n",
        "  def __init__(self,fname,mname,lname,gender,email,contact):\n",
        "    self.fname=fname\n",
        "    self.fname=mname\n",
        "    self.lname=lname\n",
        "    self.gender=gender\n",
        "    self.email=email\n",
        "    self.contact=contact\n",
        "    print(self.fname,self.fname,self.lname,self.gender,self.email, self.contact)\n",
        "    def student_details(self):\n",
        "      print(self.fname,self.mname,self.lname,self.gender,self.email, self.contact)\n",
        "      pass"
      ],
      "metadata": {
        "id": "ZfHTaHjSwWow"
      },
      "execution_count": null,
      "outputs": []
    },
    {
      "cell_type": "code",
      "source": [
        "obj1=university_student('amrita','nani','sapkota''female','sa.amrita502gmail.com',678544566)\n",
        "pass"
      ],
      "metadata": {
        "id": "3HGZL6TqwswY"
      },
      "execution_count": null,
      "outputs": []
    },
    {
      "cell_type": "code",
      "source": [],
      "metadata": {
        "id": "c2Ey3omZzL9K"
      },
      "execution_count": null,
      "outputs": []
    },
    {
      "cell_type": "code",
      "source": [
        "obj1=student_details()\n",
        "print(type(obj1))"
      ],
      "metadata": {
        "id": "CxC6nkKFwxex"
      },
      "execution_count": null,
      "outputs": []
    },
    {
      "cell_type": "code",
      "source": [
        "class Hospital_staff:\n",
        "  def __init__(nurse,fname,mname,lname,gender,unit,schedule):\n",
        "    nurse.fname=fname\n",
        "    nurse.mname=mname\n",
        "    nurse.lname=lname\n",
        "    nurse.gender=gender\n",
        "    nurse.unit=unit\n",
        "    nurse.schedule=schedule\n",
        "    print(nurse.fname,nurse.mname,nurse.lname,nurse.gender,nurse.unit, nurse.schedule)\n",
        "    #def student_details(self):\n",
        "      #print(self.fname,self.mname,self.lname,self.gender,self.email, self.contact)"
      ],
      "metadata": {
        "id": "zBBbDq12zM0E"
      },
      "execution_count": null,
      "outputs": []
    },
    {
      "cell_type": "code",
      "source": [
        "obj1=Hospital_staff('Amrita','nani','sapkota','female','ICU','weekly')"
      ],
      "metadata": {
        "colab": {
          "base_uri": "https://localhost:8080/"
        },
        "id": "ix3QLqCCz7_Z",
        "outputId": "884ca18b-ecd0-4b7c-9a06-616ba6a2fc30"
      },
      "execution_count": null,
      "outputs": [
        {
          "output_type": "stream",
          "name": "stdout",
          "text": [
            "Amrita nani sapkota female ICU weekly\n"
          ]
        }
      ]
    },
    {
      "cell_type": "code",
      "source": [
        "class car:\n",
        "  def __init__(self,name,model,fuel,cc,cylinders):\n",
        "    self.name=name\n",
        "    self.model=model\n",
        "    self.fuel=fuel\n",
        "    self.cc=cc\n",
        "    self.cylinder=cylinders\n",
        "  def car_details(self):\n",
        "      print(self.name,self.model,self.fuel,self.cc,self.cylinders)\n"
      ],
      "metadata": {
        "id": "54QqGeFh1QhN"
      },
      "execution_count": null,
      "outputs": []
    },
    {
      "cell_type": "code",
      "source": [
        "obj2=car('Audo77',777,'electric',3500,12)\n",
        "#"
      ],
      "metadata": {
        "id": "4O_hWHWe2OxS"
      },
      "execution_count": null,
      "outputs": []
    },
    {
      "cell_type": "code",
      "source": [
        "obj2.car_details()"
      ],
      "metadata": {
        "colab": {
          "base_uri": "https://localhost:8080/",
          "height": 286
        },
        "id": "lEXTSCCJ2mYH",
        "outputId": "aa18ee9f-9b27-4660-edfb-80ea57f0c892"
      },
      "execution_count": null,
      "outputs": [
        {
          "output_type": "error",
          "ename": "AttributeError",
          "evalue": "ignored",
          "traceback": [
            "\u001b[0;31m---------------------------------------------------------------------------\u001b[0m",
            "\u001b[0;31mAttributeError\u001b[0m                            Traceback (most recent call last)",
            "\u001b[0;32m<ipython-input-82-a6783c09dc0a>\u001b[0m in \u001b[0;36m<cell line: 1>\u001b[0;34m()\u001b[0m\n\u001b[0;32m----> 1\u001b[0;31m \u001b[0mobj2\u001b[0m\u001b[0;34m.\u001b[0m\u001b[0mcar_details\u001b[0m\u001b[0;34m(\u001b[0m\u001b[0;34m)\u001b[0m\u001b[0;34m\u001b[0m\u001b[0;34m\u001b[0m\u001b[0m\n\u001b[0m",
            "\u001b[0;32m<ipython-input-80-6ef851662b07>\u001b[0m in \u001b[0;36mcar_details\u001b[0;34m(self)\u001b[0m\n\u001b[1;32m      7\u001b[0m     \u001b[0mself\u001b[0m\u001b[0;34m.\u001b[0m\u001b[0mcylinder\u001b[0m\u001b[0;34m=\u001b[0m\u001b[0mcylinders\u001b[0m\u001b[0;34m\u001b[0m\u001b[0;34m\u001b[0m\u001b[0m\n\u001b[1;32m      8\u001b[0m   \u001b[0;32mdef\u001b[0m \u001b[0mcar_details\u001b[0m\u001b[0;34m(\u001b[0m\u001b[0mself\u001b[0m\u001b[0;34m)\u001b[0m\u001b[0;34m:\u001b[0m\u001b[0;34m\u001b[0m\u001b[0;34m\u001b[0m\u001b[0m\n\u001b[0;32m----> 9\u001b[0;31m       \u001b[0mprint\u001b[0m\u001b[0;34m(\u001b[0m\u001b[0mself\u001b[0m\u001b[0;34m.\u001b[0m\u001b[0mname\u001b[0m\u001b[0;34m,\u001b[0m\u001b[0mself\u001b[0m\u001b[0;34m.\u001b[0m\u001b[0mmodel\u001b[0m\u001b[0;34m,\u001b[0m\u001b[0mself\u001b[0m\u001b[0;34m.\u001b[0m\u001b[0mfuel\u001b[0m\u001b[0;34m,\u001b[0m\u001b[0mself\u001b[0m\u001b[0;34m.\u001b[0m\u001b[0mcc\u001b[0m\u001b[0;34m,\u001b[0m\u001b[0mself\u001b[0m\u001b[0;34m.\u001b[0m\u001b[0mcylinders\u001b[0m\u001b[0;34m)\u001b[0m\u001b[0;34m\u001b[0m\u001b[0;34m\u001b[0m\u001b[0m\n\u001b[0m\u001b[1;32m     10\u001b[0m \u001b[0;34m\u001b[0m\u001b[0m\n",
            "\u001b[0;31mAttributeError\u001b[0m: 'car' object has no attribute 'cylinders'"
          ]
        }
      ]
    },
    {
      "cell_type": "markdown",
      "source": [
        "###Inheritance"
      ],
      "metadata": {
        "id": "56qBX9ir3oaB"
      }
    },
    {
      "cell_type": "code",
      "source": [
        "Class transportation():\n",
        "Class Air(C:\n",
        "pass\n",
        "class water(transportation):\n",
        "  pass\n",
        "class road(transportation):\n",
        "  pass\n",
        "class wheeler2(land):\n",
        "  pass\n",
        "class wheeler3(land):\n",
        "  pass\n",
        "class wheeler4(land):\n",
        "  pass\n",
        "class wheeler 6(land):\n",
        "  pass\n",
        "class wheeler8(land):\n",
        "  pass\n",
        "class wheeler10 (land):\n",
        "  pass\n",
        "class wheeler12 (land):\n",
        "  pass\n"
      ],
      "metadata": {
        "id": "iNn7n_g_3qvS"
      },
      "execution_count": null,
      "outputs": []
    },
    {
      "cell_type": "code",
      "source": [
        "class communication():\n",
        " class pigeon():\n",
        "  pass\n",
        "class letter():\n",
        "  pass\n",
        "class paper_based(letter):\n",
        "  pass\n",
        "class electronic():\n",
        "  pass\n",
        "class electronic(fax):\n",
        "  pass\n",
        "class electronic(television):\n",
        "  pass\n",
        "class electronic(telephone):\n",
        "  pass\n",
        "class telephone(landline):\n",
        "   pass\n",
        "class telephone(satellite):\n",
        "  pass\n",
        "class telephone(mobile):\n",
        "  pass\n",
        "class mobile(anroid):\n",
        "  pass\n",
        "class mobile(iphone):\n",
        "  pass\n",
        "class mobile(windowsphone):\n",
        "  pass"
      ],
      "metadata": {
        "colab": {
          "base_uri": "https://localhost:8080/",
          "height": 143
        },
        "id": "GZAwEEic8eZz",
        "outputId": "3102ccce-62fe-49fd-fb02-653a3210db62"
      },
      "execution_count": null,
      "outputs": [
        {
          "output_type": "error",
          "ename": "SyntaxError",
          "evalue": "ignored",
          "traceback": [
            "\u001b[0;36m  File \u001b[0;32m\"<ipython-input-86-8cafdf67ba5b>\"\u001b[0;36m, line \u001b[0;32m26\u001b[0m\n\u001b[0;31m    class mobile(windowsphone):\u001b[0m\n\u001b[0m                               ^\u001b[0m\n\u001b[0;31mSyntaxError\u001b[0m\u001b[0;31m:\u001b[0m incomplete input\n"
          ]
        }
      ]
    },
    {
      "cell_type": "code",
      "source": [],
      "metadata": {
        "id": "v4MTwmf44XW_"
      },
      "execution_count": null,
      "outputs": []
    },
    {
      "cell_type": "markdown",
      "source": [
        "Wednesday Aug 23"
      ],
      "metadata": {
        "id": "V1JvDNf24Z36"
      }
    },
    {
      "cell_type": "code",
      "source": [
        "###Multiple inheritance\n",
        "\n",
        "class mother:\n",
        "  def __init__(self):\n",
        "    pass\n",
        "\n",
        "class father:\n",
        "  def __init__(self):\n",
        "    pass\n",
        "\n",
        "class daughter(mother, father):\n",
        "  def __init__(self):\n",
        "    pass\n",
        "\n",
        "class son(mother, father):\n",
        "  def __init__(self):\n",
        "    pass"
      ],
      "metadata": {
        "id": "eSXHcuN74d-r"
      },
      "execution_count": null,
      "outputs": []
    },
    {
      "cell_type": "code",
      "source": [
        "\n",
        "\n",
        "class mother:\n",
        "  def __init__(self, fname, age):\n",
        "    self.firstname = fname\n",
        "    self.age = age\n",
        "    pass\n",
        "  def printname(self):\n",
        "    print('mother class': self.firstname, self.age):\n",
        "class father:\n",
        "  def __init__(self,school,friends)\n",
        "  self.school=school\n",
        "  self.friends=friends\n",
        "   pass\n",
        "    def printname(self):\n",
        "      print('father class:',self.school,self.friends):\n",
        "class daughter(mother,father):\n",
        "  def __init__(self, fname, age,school,friends)\n",
        "  self.fname=fname\n",
        "  self.age=age\n",
        "  pass\n",
        "class son (mother,father):\n",
        "  def __init__(self, fname, age,school,friends)\n",
        "  self.fname=fname\n",
        "  self.age=age\n",
        "  obj1= daughter('amrita',28,'abc',sam)\n",
        "  obj1.printname()\n"
      ],
      "metadata": {
        "colab": {
          "base_uri": "https://localhost:8080/",
          "height": 143
        },
        "id": "LzC2Hk3_6JrM",
        "outputId": "d8fd9150-eca0-4c84-bcfa-95127fdb3edd"
      },
      "execution_count": null,
      "outputs": [
        {
          "output_type": "error",
          "ename": "SyntaxError",
          "evalue": "ignored",
          "traceback": [
            "\u001b[0;36m  File \u001b[0;32m\"<ipython-input-15-64ce64c0dc41>\"\u001b[0;36m, line \u001b[0;32m7\u001b[0m\n\u001b[0;31m    print('mother class':self.firstname, self.age):\u001b[0m\n\u001b[0m                        ^\u001b[0m\n\u001b[0;31mSyntaxError\u001b[0m\u001b[0;31m:\u001b[0m invalid syntax\n"
          ]
        }
      ]
    },
    {
      "cell_type": "code",
      "source": [
        "class BootcampX:\n",
        " BootcampX = \"This is first bootcamp inside class BootcampX \"\n",
        " def __init__(self):\n",
        "    self.b1= \"This my second bootcamp  inside function __init__ of class BootcampX\"\n",
        "    self.b2 = \"Instance variable in class BootcampX\"\n",
        "    self.b3 = \"This is var_tmp1 inside class BootcampX\"\n",
        "\n",
        " class Datascience(BootcampX):\n",
        "  BootcampY = \"This is my third bootcamp inside class Data Science \"\n",
        "  def __init__(self):\n",
        "\n",
        "    self.d1 = \"This is my fouth bootcamp inside function __init__ of class b\"\n",
        "    self.d2 = \"Instance variable in class Data Science\"\n",
        "    self.d3 = \"This is var_tmp1 inside class Data Science\"\n",
        "    super().__init__()\n",
        "\n",
        "    obj1= BootcampX ()\n",
        "    obj2=DataScience()\n",
        "\n",
        "\n",
        "print(obj1.b1)\n",
        "print(obj1.b2)\n",
        "print(obj1.b3)\n",
        "print(obj2.d1)\n",
        "print(obj2.d2)\n",
        "print(obj2.d3)\n"
      ],
      "metadata": {
        "colab": {
          "base_uri": "https://localhost:8080/",
          "height": 375
        },
        "id": "05s_w8EvOYlD",
        "outputId": "72d6a6f8-7179-4a33-b6e3-c931fd865e46"
      },
      "execution_count": null,
      "outputs": [
        {
          "output_type": "error",
          "ename": "TypeError",
          "evalue": "ignored",
          "traceback": [
            "\u001b[0;31m---------------------------------------------------------------------------\u001b[0m",
            "\u001b[0;31mTypeError\u001b[0m                                 Traceback (most recent call last)",
            "\u001b[0;32m<ipython-input-33-24950485d2e8>\u001b[0m in \u001b[0;36m<cell line: 1>\u001b[0;34m()\u001b[0m\n\u001b[0;32m----> 1\u001b[0;31m \u001b[0;32mclass\u001b[0m \u001b[0mBootcampX\u001b[0m\u001b[0;34m:\u001b[0m\u001b[0;34m\u001b[0m\u001b[0;34m\u001b[0m\u001b[0m\n\u001b[0m\u001b[1;32m      2\u001b[0m  \u001b[0mBootcampX\u001b[0m \u001b[0;34m=\u001b[0m \u001b[0;34m\"This is first bootcamp inside class BootcampX \"\u001b[0m\u001b[0;34m\u001b[0m\u001b[0;34m\u001b[0m\u001b[0m\n\u001b[1;32m      3\u001b[0m  \u001b[0;32mdef\u001b[0m \u001b[0m__init__\u001b[0m\u001b[0;34m(\u001b[0m\u001b[0mself\u001b[0m\u001b[0;34m)\u001b[0m\u001b[0;34m:\u001b[0m\u001b[0;34m\u001b[0m\u001b[0;34m\u001b[0m\u001b[0m\n\u001b[1;32m      4\u001b[0m     \u001b[0mself\u001b[0m\u001b[0;34m.\u001b[0m\u001b[0mb1\u001b[0m\u001b[0;34m=\u001b[0m \u001b[0;34m\"This my second bootcamp  inside function __init__ of class BootcampX\"\u001b[0m\u001b[0;34m\u001b[0m\u001b[0;34m\u001b[0m\u001b[0m\n\u001b[1;32m      5\u001b[0m     \u001b[0mself\u001b[0m\u001b[0;34m.\u001b[0m\u001b[0mb2\u001b[0m \u001b[0;34m=\u001b[0m \u001b[0;34m\"Instance variable in class BootcampX\"\u001b[0m\u001b[0;34m\u001b[0m\u001b[0;34m\u001b[0m\u001b[0m\n",
            "\u001b[0;32m<ipython-input-33-24950485d2e8>\u001b[0m in \u001b[0;36mBootcampX\u001b[0;34m()\u001b[0m\n\u001b[1;32m      6\u001b[0m     \u001b[0mself\u001b[0m\u001b[0;34m.\u001b[0m\u001b[0mb3\u001b[0m \u001b[0;34m=\u001b[0m \u001b[0;34m\"This is var_tmp1 inside class BootcampX\"\u001b[0m\u001b[0;34m\u001b[0m\u001b[0;34m\u001b[0m\u001b[0m\n\u001b[1;32m      7\u001b[0m \u001b[0;34m\u001b[0m\u001b[0m\n\u001b[0;32m----> 8\u001b[0;31m  \u001b[0;32mclass\u001b[0m \u001b[0mDatascience\u001b[0m\u001b[0;34m(\u001b[0m\u001b[0mBootcampX\u001b[0m\u001b[0;34m)\u001b[0m\u001b[0;34m:\u001b[0m\u001b[0;34m\u001b[0m\u001b[0;34m\u001b[0m\u001b[0m\n\u001b[0m\u001b[1;32m      9\u001b[0m   \u001b[0mBootcampY\u001b[0m \u001b[0;34m=\u001b[0m \u001b[0;34m\"This is my third bootcamp inside class Data Science \"\u001b[0m\u001b[0;34m\u001b[0m\u001b[0;34m\u001b[0m\u001b[0m\n\u001b[1;32m     10\u001b[0m   \u001b[0;32mdef\u001b[0m \u001b[0m__init__\u001b[0m\u001b[0;34m(\u001b[0m\u001b[0mself\u001b[0m\u001b[0;34m)\u001b[0m\u001b[0;34m:\u001b[0m\u001b[0;34m\u001b[0m\u001b[0;34m\u001b[0m\u001b[0m\n",
            "\u001b[0;31mTypeError\u001b[0m: str() argument 'encoding' must be str, not tuple"
          ]
        }
      ]
    },
    {
      "cell_type": "markdown",
      "source": [
        "Thursday Aug 24\n"
      ],
      "metadata": {
        "id": "70jmsgcHAbDE"
      }
    },
    {
      "cell_type": "code",
      "source": [
        "print(10+12)"
      ],
      "metadata": {
        "colab": {
          "base_uri": "https://localhost:8080/"
        },
        "id": "d25Gkja_BnzN",
        "outputId": "a3264fc7-060c-4d9c-efaf-93fd3066869b"
      },
      "execution_count": null,
      "outputs": [
        {
          "output_type": "stream",
          "name": "stdout",
          "text": [
            "22\n"
          ]
        }
      ]
    },
    {
      "cell_type": "code",
      "source": [
        "print(3.1415 + 3.1415)"
      ],
      "metadata": {
        "colab": {
          "base_uri": "https://localhost:8080/"
        },
        "id": "T_GblnnoBxxZ",
        "outputId": "67081bad-7052-4860-b04d-936f91222542"
      },
      "execution_count": null,
      "outputs": [
        {
          "output_type": "stream",
          "name": "stdout",
          "text": [
            "6.283\n"
          ]
        }
      ]
    },
    {
      "cell_type": "code",
      "source": [
        "print('python'+'programming')"
      ],
      "metadata": {
        "colab": {
          "base_uri": "https://localhost:8080/"
        },
        "id": "9zjwrmyYB7Mf",
        "outputId": "249c0bbc-631e-4f39-c22b-b82377469ee7"
      },
      "execution_count": null,
      "outputs": [
        {
          "output_type": "stream",
          "name": "stdout",
          "text": [
            "pythonprogramming\n"
          ]
        }
      ]
    },
    {
      "cell_type": "code",
      "source": [
        "print([12,23,45]+[34,23,87])"
      ],
      "metadata": {
        "colab": {
          "base_uri": "https://localhost:8080/"
        },
        "id": "3BhygV1UCQ1l",
        "outputId": "30c29646-144e-4cc4-83da-1ad848a58309"
      },
      "execution_count": null,
      "outputs": [
        {
          "output_type": "stream",
          "name": "stdout",
          "text": [
            "[12, 23, 45, 34, 23, 87]\n"
          ]
        }
      ]
    },
    {
      "cell_type": "code",
      "source": [
        "Polymorphism"
      ],
      "metadata": {
        "id": "kWaCDwqmCtjG"
      },
      "execution_count": null,
      "outputs": []
    },
    {
      "cell_type": "code",
      "source": [
        "l='python programming'\n",
        "print(len(l))\n",
        "l="
      ],
      "metadata": {
        "colab": {
          "base_uri": "https://localhost:8080/"
        },
        "id": "pnJC5krSC_gw",
        "outputId": "b72fd85b-6d1c-48ed-a5d8-ea6acb987683"
      },
      "execution_count": null,
      "outputs": [
        {
          "output_type": "stream",
          "name": "stdout",
          "text": [
            "18\n"
          ]
        }
      ]
    },
    {
      "cell_type": "code",
      "source": [
        "###Overrride\n",
        "\n",
        "class person: #parent class\n",
        "  def__init__(self,fname,mname,lname):\n",
        "    pass\n",
        "    def printdetails(self):\n",
        "      print(self.fname,self.mname,self.lname)"
      ],
      "metadata": {
        "id": "3QbBEuvMDP6E"
      },
      "execution_count": null,
      "outputs": []
    },
    {
      "cell_type": "code",
      "source": [],
      "metadata": {
        "id": "bZ7z50FzGNfh"
      },
      "execution_count": null,
      "outputs": []
    },
    {
      "cell_type": "code",
      "source": [
        "class student(person): #child  class\n",
        "  def__init__(self,fname,mname,lname):\n",
        "    pass\n",
        "    def printdetails(self):\n",
        "      print(self.fname,self.mname,self.lname)"
      ],
      "metadata": {
        "id": "U_OEY4X4EW24"
      },
      "execution_count": null,
      "outputs": []
    },
    {
      "cell_type": "code",
      "source": [
        "##polymorphism: different class (car,boat,plane) same function(move), and same parameter(Brand,model)\n",
        "\n",
        "class Car:\n",
        "  def __init__(self, brand, model):\n",
        "    self.brand = brand\n",
        "    self.model = model\n",
        "\n",
        "  def move(self):\n",
        "    print(\"Drive!\")\n",
        "\n",
        "class Boat:\n",
        "  def __init__(self, brand, model):\n",
        "    self.brand = brand\n",
        "    self.model = model\n",
        "\n",
        "  def move(self):\n",
        "    print(\"Sail!\")\n",
        "\n",
        "class Plane:\n",
        "  def __init__(self, brand, model):\n",
        "    self.brand = brand\n",
        "    self.model = model\n",
        "\n",
        "  def move(self):\n",
        "    print(\"Fly!\")\n",
        "\n",
        "car1 = Car(\"Ford\", \"Mustang\")       #Create a Car class\n",
        "boat1 = Boat(\"Ibiza\", \"Touring 20\") #Create a Boat class\n",
        "plane1 = Plane(\"Boeing\", \"747\")     #Create a Plane class\n",
        "\n",
        "for x in (car1, boat1, plane1):\n",
        "  x.move()"
      ],
      "metadata": {
        "colab": {
          "base_uri": "https://localhost:8080/"
        },
        "id": "3LXIOV8hGOVA",
        "outputId": "bc82563b-6684-4373-f774-1c50f165ea39"
      },
      "execution_count": null,
      "outputs": [
        {
          "output_type": "stream",
          "name": "stdout",
          "text": [
            "Drive!\n",
            "Sail!\n",
            "Fly!\n"
          ]
        }
      ]
    },
    {
      "cell_type": "code",
      "source": [
        "##Overriding, Inheritance and polymorphism\n",
        "\n",
        "class vehicle: ##parent class\n",
        "  def __init__(self,brand,model):\n",
        "    self.brand=brand\n",
        "    self.model=model\n",
        "\n",
        "    def move(self): ## another function in same class\n",
        "      print('move!')\n",
        "\n",
        "##This is very importnat for interview. During interview write the code with muiltiple functionalties\n",
        "##class vehicle overrides the vehicle and move to child class(car, and shows the move function as drive in output)\n",
        "class Car(vehicle): ##child class\n",
        "  def move(self):\n",
        "    print(\"Drive!\")\n",
        "\n",
        "class Boat(vehicle):\n",
        "  def move(self):\n",
        "    print(\"Sail!\")\n",
        "\n",
        "class Plane(vehicle):\n",
        "  def move(self):\n",
        "    print(\"Fly!\")\n",
        "\n",
        "car1 = Car(\"Ford\",\"Mustang\")     ## we create the objcet of class car\n",
        "boat1 = Boat(\"Ibiza\", \"Touring 20\") ##we create the objcet of class boat\n",
        "plane1 = Plane(\"Boeing\", \"747\")   ##  we create the objcet of class plane\n",
        "for i in (car1,boat1,plane1): ## we are calling one by one class using for loop\n",
        "  print(i.brand) # act as ovverride ( it override the brand function from parent class)\n",
        "  print(i.model)\n",
        "  i.move()"
      ],
      "metadata": {
        "colab": {
          "base_uri": "https://localhost:8080/"
        },
        "id": "gC2NHR1UIXhR",
        "outputId": "b5eb72b9-e914-4da8-a0b0-3fca37fd5583"
      },
      "execution_count": null,
      "outputs": [
        {
          "output_type": "stream",
          "name": "stdout",
          "text": [
            "Ford\n",
            "Mustang\n",
            "Drive!\n",
            "Ibiza\n",
            "Touring 20\n",
            "Sail!\n",
            "Boeing\n",
            "747\n",
            "Fly!\n"
          ]
        }
      ]
    },
    {
      "cell_type": "markdown",
      "source": [],
      "metadata": {
        "id": "FFN807wANGBI"
      }
    },
    {
      "cell_type": "code",
      "source": [
        "\n",
        "class fruit:\n",
        "  def __init__(self,shape,color):\n",
        "   self.shape=shape\n",
        "   self.color=color\n",
        "  def taste(self):\n",
        "    print('taste')\n",
        "\n",
        "class apple(fruit):\n",
        "  def taste(self):\n",
        "    print('sweet')\n",
        "\n",
        "class orange(fruit):\n",
        "  def taste(self):\n",
        "    print('sour')\n",
        "\n",
        "class mango(fruit):\n",
        "  def taste(self):\n",
        "    print('bitter')\n",
        "\n",
        "apple1=apple('round','red')\n",
        "orange1=orange('oval','green')\n",
        "mango1=mango('long','yellow')\n",
        "\n",
        "for i in(apple1,orange1,mango1):\n",
        "  print(i.shape)\n",
        "  print(i.color)\n",
        "  i.taste()"
      ],
      "metadata": {
        "colab": {
          "base_uri": "https://localhost:8080/"
        },
        "id": "qpzf90i0MxK6",
        "outputId": "957ac8cb-53c9-417b-94d0-08293681e768"
      },
      "execution_count": null,
      "outputs": [
        {
          "output_type": "stream",
          "name": "stdout",
          "text": [
            "round\n",
            "red\n",
            "sweet\n",
            "oval\n",
            "green\n",
            "sour\n",
            "long\n",
            "yellow\n",
            "bitter\n"
          ]
        }
      ]
    },
    {
      "cell_type": "code",
      "source": [],
      "metadata": {
        "id": "Npgjob10Hgqe"
      },
      "execution_count": null,
      "outputs": []
    }
  ]
}