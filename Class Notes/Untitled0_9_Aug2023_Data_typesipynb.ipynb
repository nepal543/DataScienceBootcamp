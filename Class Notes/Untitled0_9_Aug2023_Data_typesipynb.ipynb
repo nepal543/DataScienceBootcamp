{
  "nbformat": 4,
  "nbformat_minor": 0,
  "metadata": {
    "colab": {
      "provenance": []
    },
    "kernelspec": {
      "name": "python3",
      "display_name": "Python 3"
    },
    "language_info": {
      "name": "python"
    }
  },
  "cells": [
    {
      "cell_type": "code",
      "execution_count": null,
      "metadata": {
        "colab": {
          "base_uri": "https://localhost:8080/"
        },
        "id": "oEt4B-xGdS92",
        "outputId": "9a08a852-ecd6-4b0f-d739-0ad7530762d5"
      },
      "outputs": [
        {
          "output_type": "stream",
          "name": "stdout",
          "text": [
            "amritqqa\n"
          ]
        }
      ],
      "source": [
        "name=\"amrita\"\n",
        "\n",
        "print(name)"
      ]
    },
    {
      "cell_type": "code",
      "source": [
        "##Python data type\n",
        "#Integer\n",
        "int1=1947\n",
        "print(int1)\n",
        "print(type(int1))\n",
        "\n",
        "## Float\n",
        "flt1=3.5\n",
        "print(flt1)\n",
        "print(type(flt1))\n",
        "\n",
        "flt1=-3.5\n",
        "print(flt1)\n",
        "print(type(flt1))\n",
        "\n",
        "\n",
        "###Complex number\n",
        "cmpl1=2+3j\n",
        "print(cmpl1)\n",
        "print(type(cmpl1))\n",
        "\n",
        "cmpl1=-2+3j\n",
        "print(cmpl1)\n",
        "print(type(cmpl1))\n",
        "\n",
        "\n",
        "###Booleans\n",
        "bol1=True\n",
        "print(bol1)\n",
        "print(type(bol1))\n",
        "\n",
        "\n",
        "####String ( single quote)\n",
        "str1='python programming'\n",
        "print(str1)\n",
        "print(type(str1))\n",
        "\n",
        "### String (double quote)\n",
        "str1=\"python programming\"\n",
        "print(str1)\n",
        "print(type(str1))\n",
        "\n",
        "##String (triple double quote)\n",
        "\n",
        "str1=\"\"\"python programming\"\"\"\n",
        "print(str1)\n",
        "print(type(str1))\n",
        "\n",
        "##String( triple single quote)\n",
        "\n",
        "str1='''python programming'''\n",
        "print(str1)\n",
        "print(type(str1))\n",
        "\n",
        "str1=\"@!74574bchdg\"\n",
        "print(str1)\n",
        "print(type(str1))\n",
        "\n",
        "\n",
        "\n",
        "name=\"Amrita Sapkota\"\n",
        "print(name)\n",
        "print(type(name))\n",
        "address= ' I live in California'\n",
        "print(address)\n",
        "\n",
        "\n",
        "info1= \"\"\"My name is 'Amrita'.I am taking Data analysis 'bootcamp'. I am excited for the 'class'\"\"\"\n",
        "print(info1)\n",
        "print(type(info1))\n",
        "\n",
        "\n",
        "\n",
        "#####List\n",
        "lst1=[12,243,67]\n",
        "print(lst1)\n",
        "print(type(lst1))\n",
        "\n",
        "####Tuple\n",
        "tup1=(1,2,3,4,5,6)\n",
        "print(tup1)\n",
        "print(type(tup1))\n",
        "\n",
        "\n",
        "###Set\n",
        "set1={'a','b','c','D','E','F',1,2,3,'!','@','%','a','b','c','D','E','F',1,2,3,'!','@','%'}\n",
        "print(set1)\n",
        "\n",
        "\n",
        "###\n",
        "list1=[5,7,8,6,5,9,0]\n",
        "print(list1)\n",
        "print(type(list1))\n",
        "\n",
        "tup1=(4,6,9,8,4,6,9)\n",
        "print(tup1)\n",
        "print(type(tup1))\n",
        "\n",
        "set1={'a','python',True, False,3, 5 , '@','*', '$','a','python',3, 5, '@','*', '$',0}\n",
        "print(set1)\n",
        "print(type(set1))\n",
        "\n",
        "str1=('hey', 'data', 'python', 'bootcamp')\n",
        "print(str(1))\n",
        "\n",
        "##Dictionary\n",
        "\n",
        "dict1={'a':'apple',\n",
        "       'b':'banana',\n",
        "       'c':'cherry'\n",
        "       }\n",
        "print(dict1)\n",
        "print(type(dict1))\n",
        "\n",
        "\n",
        "####\n",
        "dict_2={'food':'Momo',\n",
        "       'country':'Nepal',\n",
        "       'number': 28,\n",
        "       'is tall': True,\n",
        "       'value': '3,4,6',\n",
        "       }\n",
        "print(dict_2)\n",
        "\n",
        "\n",
        "\n",
        "### To find the lenth of string\n",
        "str1='a mrid hhsdjsdhd gsbhsdgh'\n",
        "print(str1)\n",
        "print(len(str1))\n",
        "\n",
        "## to find the individual index\n",
        "print(str1[0])\n",
        "print(str1[1])\n",
        "print(str1[2])\n",
        "print(str1[3])\n",
        "print(str1[4])\n",
        "print(str1[5])\n",
        "print(str1[6])\n",
        "print(str1[7])\n",
        "print(str1[8])\n",
        "print(str1[9])\n",
        "print(str1[10])\n",
        "print(str1[21])\n",
        "\n",
        "##for every space , index will take a value.\n",
        "\n",
        "##Slicing\n",
        "\n",
        "str2='amritasapkotalivesincalifornia'\n",
        "print(len(str2))\n",
        "str2 [0:4:1],str2[5:10:2],str2[11:15:3],str2[1:6:4],str2[0:10:5]"
      ],
      "metadata": {
        "colab": {
          "base_uri": "https://localhost:8080/"
        },
        "id": "0ayIy_KAwP-V",
        "outputId": "d7df7ba8-cedc-4bbb-c7e0-26da5e39b10e"
      },
      "execution_count": null,
      "outputs": [
        {
          "output_type": "stream",
          "name": "stdout",
          "text": [
            "1947\n",
            "<class 'int'>\n",
            "3.5\n",
            "<class 'float'>\n",
            "-3.5\n",
            "<class 'float'>\n",
            "(2+3j)\n",
            "<class 'complex'>\n",
            "(-2+3j)\n",
            "<class 'complex'>\n",
            "True\n",
            "<class 'bool'>\n",
            "python programming\n",
            "<class 'str'>\n",
            "python programming\n",
            "<class 'str'>\n",
            "python programming\n",
            "<class 'str'>\n",
            "python programming\n",
            "<class 'str'>\n",
            "@!74574bchdg\n",
            "<class 'str'>\n",
            "Amrita Sapkota\n",
            "<class 'str'>\n",
            " I live in California\n",
            "My name is 'Amrita'.I am taking Data analysis 'bootcamp'. I am excited for the 'class'\n",
            "<class 'str'>\n",
            "[12, 243, 67]\n",
            "<class 'list'>\n",
            "(1, 2, 3, 4, 5, 6)\n",
            "<class 'tuple'>\n",
            "{'b', 2, 3, 1, '!', '@', 'E', 'a', 'D', 'F', 'c', '%'}\n",
            "[5, 7, 8, 6, 5, 9, 0]\n",
            "<class 'list'>\n",
            "(4, 6, 9, 8, 4, 6, 9)\n",
            "<class 'tuple'>\n",
            "{False, True, '@', 3, 5, '*', '$', 'python', 'a'}\n",
            "<class 'set'>\n",
            "1\n",
            "{'a': 'apple', 'b': 'banana', 'c': 'cherry'}\n",
            "<class 'dict'>\n",
            "{'food': 'Momo', 'country': 'Nepal', 'number': 28, 'is tall': True, 'value': '3,4,6'}\n",
            "a mrid hhsdjsdhd gsbhsdgh\n",
            "25\n",
            "a\n",
            " \n",
            "m\n",
            "r\n",
            "i\n",
            "d\n",
            " \n",
            "h\n",
            "h\n",
            "s\n",
            "d\n",
            "s\n",
            "30\n"
          ]
        },
        {
          "output_type": "execute_result",
          "data": {
            "text/plain": [
              "('amri', 'aak', 'ti', 'ma', 'aa')"
            ]
          },
          "metadata": {},
          "execution_count": 66
        }
      ]
    },
    {
      "cell_type": "code",
      "source": [
        "str2='Amritasapkotalivesincalifornia'\n",
        "str2[::]#(takes the default value)\n",
        "str2[0::]\n",
        "str2[::1]\n",
        "str2[:len(str):]\n",
        "str2[:9:]\n",
        "str[9:18:]\n",
        "str2[18:]\n",
        "\n",
        "\n"
      ],
      "metadata": {
        "colab": {
          "base_uri": "https://localhost:8080/",
          "height": 35
        },
        "id": "ZU-ckVaAIiN5",
        "outputId": "26127f25-d426-4900-bde7-eecef8c9ab4f"
      },
      "execution_count": null,
      "outputs": [
        {
          "output_type": "execute_result",
          "data": {
            "text/plain": [
              "'Amritasapkotalivesincalifornia'"
            ],
            "application/vnd.google.colaboratory.intrinsic+json": {
              "type": "string"
            }
          },
          "metadata": {},
          "execution_count": 68
        }
      ]
    },
    {
      "cell_type": "code",
      "source": [
        "str3='pythonbootcamp'\n",
        "str3[::], str3[1::], str3[::3], str3[:len(str3):], str3[:10:],str3[3:7:],str3[13:]"
      ],
      "metadata": {
        "colab": {
          "base_uri": "https://localhost:8080/"
        },
        "id": "jEyKIgEtJ4RH",
        "outputId": "403c6626-4bf8-4e74-d512-5a1db4e8bb14"
      },
      "execution_count": null,
      "outputs": [
        {
          "output_type": "execute_result",
          "data": {
            "text/plain": [
              "('pythonbootcamp',\n",
              " 'ythonbootcamp',\n",
              " 'phbtm',\n",
              " 'pythonbootcamp',\n",
              " 'pythonboot',\n",
              " 'honb',\n",
              " 'p')"
            ]
          },
          "metadata": {},
          "execution_count": 80
        }
      ]
    },
    {
      "cell_type": "code",
      "source": [],
      "metadata": {
        "id": "QmcU95wVSOBO"
      },
      "execution_count": null,
      "outputs": []
    },
    {
      "cell_type": "markdown",
      "source": [
        "# New Section"
      ],
      "metadata": {
        "id": "BTME44oXSRXX"
      }
    },
    {
      "cell_type": "markdown",
      "source": [
        "# New Section"
      ],
      "metadata": {
        "id": "6XDQW49WSR9y"
      }
    },
    {
      "cell_type": "code",
      "source": [
        "#Thursday Aug 10\n",
        "###String Slicing\n",
        "str= \"peppe prefer python Programing\"\n",
        "print(len(str))\n",
        "str[:5], str[5:12],str[12:19],str[19:30]\n",
        "\n",
        "#OR,\n",
        "print(str[:5])\n",
        "print(str[5:12])\n",
        "print(str[12:19])\n",
        "print(str[19:30])\n",
        "\n",
        "\n",
        "###Negative slicing( index -ve)\n",
        "\n",
        "str1=\"Amritasapkotalearnspython\"\n",
        "##str1[::1] ( (# Start from first to last)\n",
        "#str1[::-1] (##Starts from last to first)\n",
        "\n",
        "str= \"peppe prefer python Programming\"\n",
        "print(str[-1:-12:-1])\n",
        "print(str[-13:-19:-1])\n",
        "print(str[-20:-26:-1])\n",
        "print(str[-27:-31:1])\n",
        "\n",
        "str1 = 'VenkataNarasimhaRajuvaripeta'\n",
        "print(str1)\n",
        "#print(type(str1))\n",
        "#print(len(str1))\n",
        "(str1[-1:-13:-1]),(str1[-14:-22:-1]),(str1[-23:-29:-1])\n",
        "\n",
        "str1 = 'VenkataNarasimhaRajuvaripeta'\n",
        "\n",
        "## Negative index and +ve slicing\n",
        "\n",
        "#str1= \"peppepreferpythonProgramming\"\n",
        "str1[-28:-23:1]\n",
        "\n",
        "str1 = 'VenkataNarasimhaRajuvaripeta'\n",
        "str1[-28:-21:1],str1[-21:-12:1],str1[-12::1]\n",
        "\n",
        "###List\n",
        "#lst1=['apple','banana','cherry','dates','eggfruit','grapes','icdefruit']\n",
        "print(type(lst1))\n",
        "lst1[0],lst1[1],lst1[2],lst1[3],lst1[4],lst1[5]\n",
        "lst1[::]\n",
        "lst1[::1]\n",
        "\n",
        "#lst1=['Nepal','USA','Mexico','Germany','India','China','Canada','Russia','France','Brazil']\n",
        "print(type(lst1))"
      ],
      "metadata": {
        "colab": {
          "base_uri": "https://localhost:8080/"
        },
        "id": "kw01K32I5q_u",
        "outputId": "0bdd72e8-e4be-4f7e-f343-c61f7f19c78b"
      },
      "execution_count": null,
      "outputs": [
        {
          "output_type": "stream",
          "name": "stdout",
          "text": [
            "30\n",
            "peppe\n",
            " prefer\n",
            " python\n",
            " Programing\n",
            "gnimmargorP\n",
            "nohtyp\n",
            "referp\n",
            "\n",
            "VenkataNarasimhaRajuvaripeta\n",
            "<class 'list'>\n",
            "<class 'list'>\n"
          ]
        }
      ]
    },
    {
      "cell_type": "code",
      "source": [
        "lst1=['Nepal','USA','Mexico','Germany','India','China','Canada','Russia','France','Brazil']\n",
        "print(type(lst1))\n",
        "#lst1[0],lst1[1],lst1[2],lst1[3],lst1[4],lst1[5],lst1[6],lst1[7],lst1[8],lst1[9]\n",
        "lst1[::]\n",
        "print(lst1[3:7]) #positive indexing\n",
        "print(lst1[-1:-5:-1]) # negative indexing\n",
        "print(lst1[6:2:-1])# positive indexing negative slicing\n",
        "print(lst1[-7:-3:]) # negative indexing positive slicing\n"
      ],
      "metadata": {
        "colab": {
          "base_uri": "https://localhost:8080/"
        },
        "id": "V523j1pvQcUp",
        "outputId": "a2e7923d-3974-4ebc-d3c6-6fa079d15edb"
      },
      "execution_count": null,
      "outputs": [
        {
          "output_type": "stream",
          "name": "stdout",
          "text": [
            "<class 'list'>\n",
            "['Germany', 'India', 'China', 'Canada']\n",
            "['Brazil', 'France', 'Russia', 'Canada']\n",
            "['Canada', 'China', 'India', 'Germany']\n",
            "['Germany', 'India', 'China', 'Canada']\n"
          ]
        }
      ]
    }
  ]
}