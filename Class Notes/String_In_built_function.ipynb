{
  "nbformat": 4,
  "nbformat_minor": 0,
  "metadata": {
    "colab": {
      "provenance": []
    },
    "kernelspec": {
      "name": "python3",
      "display_name": "Python 3"
    },
    "language_info": {
      "name": "python"
    }
  },
  "cells": [
    {
      "cell_type": "code",
      "execution_count": null,
      "metadata": {
        "colab": {
          "base_uri": "https://localhost:8080/"
        },
        "id": "rVoIlx5rScoh",
        "outputId": "ab7d83d1-8750-4052-ff29-f5054f22e774"
      },
      "outputs": [
        {
          "output_type": "stream",
          "name": "stdout",
          "text": [
            "HloWrd\n"
          ]
        }
      ],
      "source": [
        "tem_str=\"Hello World\"\n",
        "print(tem_str[::2])\n",
        "#string slicing[Start:stop:step]\n",
        "\n"
      ]
    },
    {
      "cell_type": "code",
      "source": [
        "temp_str='hello world'\n",
        "print(temp_str.capitalize())"
      ],
      "metadata": {
        "colab": {
          "base_uri": "https://localhost:8080/"
        },
        "id": "rSglUYBCTnhA",
        "outputId": "4ef3dbac-9e6b-4092-d5c6-0f164be447e6"
      },
      "execution_count": null,
      "outputs": [
        {
          "output_type": "stream",
          "name": "stdout",
          "text": [
            "Hello world\n"
          ]
        }
      ]
    },
    {
      "cell_type": "code",
      "source": [
        " # returns a string where all character are lowercase\n",
        "temp_str='Hello World'\n",
        "print(temp_str.casefold())"
      ],
      "metadata": {
        "colab": {
          "base_uri": "https://localhost:8080/"
        },
        "id": "2-w8SZu1Ug0k",
        "outputId": "30250771-5cd2-469b-fedd-a41f3b04b2a8"
      },
      "execution_count": null,
      "outputs": [
        {
          "output_type": "stream",
          "name": "stdout",
          "text": [
            "hello world\n"
          ]
        }
      ]
    },
    {
      "cell_type": "code",
      "source": [],
      "metadata": {
        "id": "CkHf5-YXW3NX"
      },
      "execution_count": null,
      "outputs": []
    },
    {
      "cell_type": "code",
      "source": [
        "#Increases length of string by adding whatever character is mentioned if not be default fills by space\n",
        "temp_str='hello world'\n",
        "print(temp_str.center(15,\"*\"))"
      ],
      "metadata": {
        "colab": {
          "base_uri": "https://localhost:8080/"
        },
        "id": "5FTp95VIUv5i",
        "outputId": "23d9f350-7e17-4995-a24c-40fd51e89099"
      },
      "execution_count": null,
      "outputs": [
        {
          "output_type": "stream",
          "name": "stdout",
          "text": [
            "**hello world**\n"
          ]
        }
      ]
    },
    {
      "cell_type": "code",
      "source": [
        "dir(tem_str)"
      ],
      "metadata": {
        "colab": {
          "base_uri": "https://localhost:8080/"
        },
        "id": "6eqHiGM9TMum",
        "outputId": "7a08807e-4f4d-4efe-dae7-f7d2f4fbd841"
      },
      "execution_count": null,
      "outputs": [
        {
          "output_type": "execute_result",
          "data": {
            "text/plain": [
              "['__add__',\n",
              " '__class__',\n",
              " '__contains__',\n",
              " '__delattr__',\n",
              " '__dir__',\n",
              " '__doc__',\n",
              " '__eq__',\n",
              " '__format__',\n",
              " '__ge__',\n",
              " '__getattribute__',\n",
              " '__getitem__',\n",
              " '__getnewargs__',\n",
              " '__gt__',\n",
              " '__hash__',\n",
              " '__init__',\n",
              " '__init_subclass__',\n",
              " '__iter__',\n",
              " '__le__',\n",
              " '__len__',\n",
              " '__lt__',\n",
              " '__mod__',\n",
              " '__mul__',\n",
              " '__ne__',\n",
              " '__new__',\n",
              " '__reduce__',\n",
              " '__reduce_ex__',\n",
              " '__repr__',\n",
              " '__rmod__',\n",
              " '__rmul__',\n",
              " '__setattr__',\n",
              " '__sizeof__',\n",
              " '__str__',\n",
              " '__subclasshook__',\n",
              " 'capitalize',\n",
              " 'casefold',\n",
              " 'center',\n",
              " 'count',\n",
              " 'encode',\n",
              " 'endswith',\n",
              " 'expandtabs',\n",
              " 'find',\n",
              " 'format',\n",
              " 'format_map',\n",
              " 'index',\n",
              " 'isalnum',\n",
              " 'isalpha',\n",
              " 'isascii',\n",
              " 'isdecimal',\n",
              " 'isdigit',\n",
              " 'isidentifier',\n",
              " 'islower',\n",
              " 'isnumeric',\n",
              " 'isprintable',\n",
              " 'isspace',\n",
              " 'istitle',\n",
              " 'isupper',\n",
              " 'join',\n",
              " 'ljust',\n",
              " 'lower',\n",
              " 'lstrip',\n",
              " 'maketrans',\n",
              " 'partition',\n",
              " 'removeprefix',\n",
              " 'removesuffix',\n",
              " 'replace',\n",
              " 'rfind',\n",
              " 'rindex',\n",
              " 'rjust',\n",
              " 'rpartition',\n",
              " 'rsplit',\n",
              " 'rstrip',\n",
              " 'split',\n",
              " 'splitlines',\n",
              " 'startswith',\n",
              " 'strip',\n",
              " 'swapcase',\n",
              " 'title',\n",
              " 'translate',\n",
              " 'upper',\n",
              " 'zfill']"
            ]
          },
          "metadata": {},
          "execution_count": 17
        }
      ]
    },
    {
      "cell_type": "code",
      "source": [
        "temp_str=\"HeLLo world how is it going? Hello all good\"\n",
        "print(temp_str.count(\"Hello\"))\n",
        "print(temp_str.count(\"HeLlo\"))\n",
        "#how to get range?\n",
        "#count(value,start,end) # start and end are optional if not given takes full string\n",
        "#It only works for alphabetic characters\n",
        "temp_str2=\"HeLLo world how is it going? Hello all good\"\n",
        "print(temp_str2.count(\"Hello\",2))"
      ],
      "metadata": {
        "colab": {
          "base_uri": "https://localhost:8080/"
        },
        "id": "xiFhEaxRW4wM",
        "outputId": "537db3bf-24bf-4fa1-bfbd-abb7f499c514"
      },
      "execution_count": null,
      "outputs": [
        {
          "output_type": "stream",
          "name": "stdout",
          "text": [
            "1\n",
            "0\n",
            "1\n"
          ]
        }
      ]
    },
    {
      "cell_type": "code",
      "source": [
        "\n",
        "#returns true of false based on the suffix passed\n",
        " temp_str2=\"HeLLo world how is it going? Hello all good!\"\n",
        "print(temp_str2.endswitch('od'))\n",
        "\n"
      ],
      "metadata": {
        "colab": {
          "base_uri": "https://localhost:8080/",
          "height": 143
        },
        "id": "6HV7Y9JwbmyQ",
        "outputId": "8ef1d1fe-4a23-4167-bbdc-9463eaaf15ba"
      },
      "execution_count": null,
      "outputs": [
        {
          "output_type": "error",
          "ename": "IndentationError",
          "evalue": "ignored",
          "traceback": [
            "\u001b[0;36m  File \u001b[0;32m\"<ipython-input-31-b8fea8b6b6cb>\"\u001b[0;36m, line \u001b[0;32m2\u001b[0m\n\u001b[0;31m    temp_str2=\"HeLLo world how is it going? Hello all good!\"\u001b[0m\n\u001b[0m    ^\u001b[0m\n\u001b[0;31mIndentationError\u001b[0m\u001b[0;31m:\u001b[0m unexpected indent\n"
          ]
        }
      ]
    },
    {
      "cell_type": "code",
      "source": [],
      "metadata": {
        "id": "HNXgGwW0e0qB"
      },
      "execution_count": null,
      "outputs": []
    },
    {
      "cell_type": "code",
      "source": [
        "\n",
        "##returns lowest string of the substrings if found else return -1\n",
        "temp_str2=\"HeLLo world how is it going? Hello all good! how are you\"\n",
        "print(temp_str2.find('how'))\n",
        "print(temp_str2.find('howrfgdt'))"
      ],
      "metadata": {
        "colab": {
          "base_uri": "https://localhost:8080/"
        },
        "id": "mUalS-4gd2LL",
        "outputId": "3492bc78-ff45-4ff0-f8a8-e318618ab538"
      },
      "execution_count": null,
      "outputs": [
        {
          "output_type": "stream",
          "name": "stdout",
          "text": [
            "12\n",
            "-1\n"
          ]
        }
      ]
    },
    {
      "cell_type": "code",
      "source": [
        "##format"
      ],
      "metadata": {
        "id": "uVe9avkie1r2"
      },
      "execution_count": null,
      "outputs": []
    },
    {
      "cell_type": "code",
      "source": [
        "temp_str= \"Hello my name is {fname}, I am a {position}!\"\n",
        "print(temp_str.format(fname='amrita', position='dataanalyst'))\n",
        "temp_str= \"Hello my name is {0}, I am a {1}!\"\n",
        "\n"
      ],
      "metadata": {
        "colab": {
          "base_uri": "https://localhost:8080/"
        },
        "id": "tlQypZcKfDVK",
        "outputId": "234196ff-9f11-4833-87bd-1bb2d7cc6195"
      },
      "execution_count": null,
      "outputs": [
        {
          "output_type": "stream",
          "name": "stdout",
          "text": [
            "Hello my name is amrita, I am a dataanalyst!\n"
          ]
        }
      ]
    },
    {
      "cell_type": "code",
      "source": [
        "##Functions jumped\n",
        "1. formatmap\n",
        "2.expandtabs\n"
      ],
      "metadata": {
        "id": "f162RugnhaHb"
      },
      "execution_count": null,
      "outputs": []
    },
    {
      "cell_type": "code",
      "source": [
        "#### Index function\n",
        "#replica of find functions but it throws errors if not found anything\n",
        "temp_str2=\"HeLLo world how is it going? Hello all good! how are you\"\n",
        "print(temp_str2.index('how'))\n",
        "print(temp_str2.index('howiuy'))\n",
        "\n",
        "\n",
        "\n",
        "\n",
        "\n",
        "\n",
        "\n"
      ],
      "metadata": {
        "colab": {
          "base_uri": "https://localhost:8080/",
          "height": 268
        },
        "id": "OSHiQPDuhpRi",
        "outputId": "c637d837-0ea3-4980-9160-04e3685a76b9"
      },
      "execution_count": null,
      "outputs": [
        {
          "output_type": "stream",
          "name": "stdout",
          "text": [
            "12\n"
          ]
        },
        {
          "output_type": "error",
          "ename": "ValueError",
          "evalue": "ignored",
          "traceback": [
            "\u001b[0;31m---------------------------------------------------------------------------\u001b[0m",
            "\u001b[0;31mValueError\u001b[0m                                Traceback (most recent call last)",
            "\u001b[0;32m<ipython-input-46-84b43d7c320c>\u001b[0m in \u001b[0;36m<cell line: 4>\u001b[0;34m()\u001b[0m\n\u001b[1;32m      2\u001b[0m \u001b[0mtemp_str2\u001b[0m\u001b[0;34m=\u001b[0m\u001b[0;34m\"HeLLo world how is it going? Hello all good! how are you\"\u001b[0m\u001b[0;34m\u001b[0m\u001b[0;34m\u001b[0m\u001b[0m\n\u001b[1;32m      3\u001b[0m \u001b[0mprint\u001b[0m\u001b[0;34m(\u001b[0m\u001b[0mtemp_str2\u001b[0m\u001b[0;34m.\u001b[0m\u001b[0mindex\u001b[0m\u001b[0;34m(\u001b[0m\u001b[0;34m'how'\u001b[0m\u001b[0;34m)\u001b[0m\u001b[0;34m)\u001b[0m\u001b[0;34m\u001b[0m\u001b[0;34m\u001b[0m\u001b[0m\n\u001b[0;32m----> 4\u001b[0;31m \u001b[0mprint\u001b[0m\u001b[0;34m(\u001b[0m\u001b[0mtemp_str2\u001b[0m\u001b[0;34m.\u001b[0m\u001b[0mindex\u001b[0m\u001b[0;34m(\u001b[0m\u001b[0;34m'howiuy'\u001b[0m\u001b[0;34m)\u001b[0m\u001b[0;34m)\u001b[0m\u001b[0;34m\u001b[0m\u001b[0;34m\u001b[0m\u001b[0m\n\u001b[0m\u001b[1;32m      5\u001b[0m \u001b[0;34m\u001b[0m\u001b[0m\n\u001b[1;32m      6\u001b[0m \u001b[0;34m\u001b[0m\u001b[0m\n",
            "\u001b[0;31mValueError\u001b[0m: substring not found"
          ]
        }
      ]
    },
    {
      "cell_type": "code",
      "source": [],
      "metadata": {
        "id": "syK0edENZnKq"
      },
      "execution_count": null,
      "outputs": []
    },
    {
      "cell_type": "markdown",
      "source": [],
      "metadata": {
        "id": "w7g4Q7TPZoz8"
      }
    },
    {
      "cell_type": "code",
      "source": [
        "#returns donot work with subscript and digits works with it\n",
        "temp_str=\"\\u00B2\"\n",
        "print(temp_str)\n",
        "print(temp_str.isdecimal())\n",
        "print(temp_str.isdigit())"
      ],
      "metadata": {
        "colab": {
          "base_uri": "https://localhost:8080/"
        },
        "id": "5Pupie54ZpXC",
        "outputId": "c6c60337-dcbd-4302-d0dc-43f795a2e64f"
      },
      "execution_count": null,
      "outputs": [
        {
          "output_type": "stream",
          "name": "stdout",
          "text": [
            "²\n",
            "False\n",
            "True\n"
          ]
        }
      ]
    },
    {
      "cell_type": "code",
      "source": [
        "#returns true if the word is keyword in python else returns false\n",
        "#this also works with variable convention so if starts with number it gives false\n",
        "temp_str=\"Hello World\"\n",
        "print(temp_str.isidentifier())\n",
        "temp_str2=\"if\"(## to find the special key words like, if, else, while)\n",
        "print(temp_str2.isidentifier())"
      ],
      "metadata": {
        "colab": {
          "base_uri": "https://localhost:8080/"
        },
        "id": "SyxED2WCa5F7",
        "outputId": "bc47af32-c553-4299-a714-c6ffd8548fef"
      },
      "execution_count": null,
      "outputs": [
        {
          "output_type": "stream",
          "name": "stdout",
          "text": [
            "False\n",
            "True\n"
          ]
        }
      ]
    },
    {
      "cell_type": "code",
      "source": [],
      "metadata": {
        "id": "varJYpRmdJOo"
      },
      "execution_count": null,
      "outputs": []
    },
    {
      "cell_type": "code",
      "source": [
        "temp_str=\"Hello World\"\n",
        "temp_str2=\"hello World\"\n",
        "print(temp_str.islower())"
      ],
      "metadata": {
        "colab": {
          "base_uri": "https://localhost:8080/"
        },
        "id": "2GOgQwFkcB-u",
        "outputId": "a83a1abc-3839-4e7d-f8fa-e5a6f8f089af"
      },
      "execution_count": null,
      "outputs": [
        {
          "output_type": "stream",
          "name": "stdout",
          "text": [
            "False\n"
          ]
        }
      ]
    },
    {
      "cell_type": "code",
      "source": [
        "#####is space\n",
        "\n",
        "temp_str=\"Hello WorLD\"\n",
        "print(temp_str.isspace())\n",
        "temp_str2=\" \"\n",
        "print(temp_str2.isspace())\n",
        "\n",
        "###istittle\n"
      ],
      "metadata": {
        "colab": {
          "base_uri": "https://localhost:8080/"
        },
        "id": "4nDacMA2dKj_",
        "outputId": "7ee4a210-9d41-40d5-b62b-cc74071571cd"
      },
      "execution_count": null,
      "outputs": [
        {
          "output_type": "stream",
          "name": "stdout",
          "text": [
            "False\n",
            "True\n"
          ]
        }
      ]
    },
    {
      "cell_type": "code",
      "source": [
        "##is tittle( only true if the first letter is capital and other is small letter)\n",
        "temp_str=\"Hello World\"\n",
        "print(temp_str.istitle())\n",
        "temp_str2=\"Hello world\"\n",
        "print(temp_str2.istitle())\n"
      ],
      "metadata": {
        "colab": {
          "base_uri": "https://localhost:8080/"
        },
        "id": "q0ej8rbSe6xi",
        "outputId": "fb628385-f13c-4e90-9994-e0fc5f8cae5d"
      },
      "execution_count": null,
      "outputs": [
        {
          "output_type": "stream",
          "name": "stdout",
          "text": [
            "True\n",
            "False\n"
          ]
        }
      ]
    },
    {
      "cell_type": "code",
      "source": [
        "###is upper( every letter is in capital letter ,doesnot matter if the numbers)\n",
        "\n",
        "##Itetrables are list ,tupple\n",
        "list_temp=[\"hello\",\"World\",'how',\"are\",\"you\",]\n",
        "print(' '.join(list_temp))"
      ],
      "metadata": {
        "colab": {
          "base_uri": "https://localhost:8080/"
        },
        "id": "ELxLwqIsfsOe",
        "outputId": "91f4f909-f63f-4172-86ee-647f12e20121"
      },
      "execution_count": null,
      "outputs": [
        {
          "output_type": "stream",
          "name": "stdout",
          "text": [
            "hello World how are you\n"
          ]
        }
      ]
    },
    {
      "cell_type": "code",
      "source": [
        "##lower\n",
        "temp_str=\"Hello World\"\n",
        "print(temp_str.lower())\n",
        "\n",
        "##Casefold forcefully brings characters to lower case.eg: other language letter expects english\n"
      ],
      "metadata": {
        "colab": {
          "base_uri": "https://localhost:8080/"
        },
        "id": "Kp0PWoS4hZgl",
        "outputId": "c3400db8-7baf-46d5-b697-b26d9f976f02"
      },
      "execution_count": null,
      "outputs": [
        {
          "output_type": "stream",
          "name": "stdout",
          "text": [
            "hello world\n"
          ]
        }
      ]
    },
    {
      "cell_type": "code",
      "source": [
        "##Lstrip removes the white space in the lefthand side of screen\n",
        "temp_str=\"          Hello World\"\n",
        "print(temp_str.lstrip())\n",
        "\n",
        "\n"
      ],
      "metadata": {
        "colab": {
          "base_uri": "https://localhost:8080/"
        },
        "id": "z_ydYpiWigmi",
        "outputId": "fbf5f3b4-adff-4953-f9b9-54b069fcb199"
      },
      "execution_count": null,
      "outputs": [
        {
          "output_type": "stream",
          "name": "stdout",
          "text": [
            "Hello World\n"
          ]
        }
      ]
    },
    {
      "cell_type": "code",
      "source": [
        "##partition\n",
        "temp_str=\"i can dance all day\"\n",
        "print(temp_str.partition(\"dance\"))\n",
        "print(temp_str.partition(\"dance77\")) #it doesnot find the words so return two empty spaces after the search word,dance77"
      ],
      "metadata": {
        "colab": {
          "base_uri": "https://localhost:8080/"
        },
        "id": "Bz2RmEwajjXF",
        "outputId": "adcc638e-63e2-4ebc-c723-0f7e0354ecea"
      },
      "execution_count": null,
      "outputs": [
        {
          "output_type": "stream",
          "name": "stdout",
          "text": [
            "('i can ', 'dance', ' all day')\n",
            "('i can dance all day', '', '')\n"
          ]
        }
      ]
    },
    {
      "cell_type": "code",
      "source": [
        "##replace\n",
        "temp_str=\"i can dance all day,i can paint it\"\n",
        "temp_str.replace('i')\n"
      ],
      "metadata": {
        "colab": {
          "base_uri": "https://localhost:8080/",
          "height": 214
        },
        "id": "btc8fPaCkiBH",
        "outputId": "43f9e54a-a113-4bcc-95b2-07d71c594adc"
      },
      "execution_count": 2,
      "outputs": [
        {
          "output_type": "error",
          "ename": "TypeError",
          "evalue": "ignored",
          "traceback": [
            "\u001b[0;31m---------------------------------------------------------------------------\u001b[0m",
            "\u001b[0;31mTypeError\u001b[0m                                 Traceback (most recent call last)",
            "\u001b[0;32m<ipython-input-2-b2ba753a9875>\u001b[0m in \u001b[0;36m<cell line: 3>\u001b[0;34m()\u001b[0m\n\u001b[1;32m      1\u001b[0m \u001b[0;31m##replace\u001b[0m\u001b[0;34m\u001b[0m\u001b[0;34m\u001b[0m\u001b[0m\n\u001b[1;32m      2\u001b[0m \u001b[0mtemp_str\u001b[0m\u001b[0;34m=\u001b[0m\u001b[0;34m\"i can dance all day,i can paint it\"\u001b[0m\u001b[0;34m\u001b[0m\u001b[0;34m\u001b[0m\u001b[0m\n\u001b[0;32m----> 3\u001b[0;31m \u001b[0mtemp_str\u001b[0m\u001b[0;34m.\u001b[0m\u001b[0mreplace\u001b[0m\u001b[0;34m(\u001b[0m\u001b[0;34m'i'\u001b[0m\u001b[0;34m)\u001b[0m\u001b[0;34m\u001b[0m\u001b[0;34m\u001b[0m\u001b[0m\n\u001b[0m",
            "\u001b[0;31mTypeError\u001b[0m: replace expected at least 2 arguments, got 1"
          ]
        }
      ]
    },
    {
      "cell_type": "code",
      "source": [
        "#rstripe it removes space in right hand side\n",
        "temp_str=\"        hello world       .\"\n",
        "temp_str.rstrip()"
      ],
      "metadata": {
        "colab": {
          "base_uri": "https://localhost:8080/",
          "height": 35
        },
        "id": "gq6BTbPslpF5",
        "outputId": "ce9838fe-7767-44ac-d692-f733f5619e3b"
      },
      "execution_count": null,
      "outputs": [
        {
          "output_type": "execute_result",
          "data": {
            "text/plain": [
              "'        hello world       .'"
            ],
            "application/vnd.google.colaboratory.intrinsic+json": {
              "type": "string"
            }
          },
          "metadata": {},
          "execution_count": 31
        }
      ]
    },
    {
      "cell_type": "code",
      "source": [
        "##split\n",
        "temp_str=\"i can dance all day, i love it\"\n",
        "temp_str.split(\", \")"
      ],
      "metadata": {
        "colab": {
          "base_uri": "https://localhost:8080/"
        },
        "id": "b5cr34FlmWrv",
        "outputId": "68b4446b-752d-4c7a-b562-431f56f8b1d2"
      },
      "execution_count": null,
      "outputs": [
        {
          "output_type": "execute_result",
          "data": {
            "text/plain": [
              "['i can dance all day', 'i love it']"
            ]
          },
          "metadata": {},
          "execution_count": 32
        }
      ]
    },
    {
      "cell_type": "code",
      "source": [
        "#startwith\n",
        "temp_str=\"i can dance all day, i love it\"\n",
        "temp_str.startswith('i')\n",
        "temp_str.startswith('love')"
      ],
      "metadata": {
        "colab": {
          "base_uri": "https://localhost:8080/"
        },
        "id": "9Ix9othym0fB",
        "outputId": "6a85568a-56ef-4436-e03d-c22666c762e4"
      },
      "execution_count": null,
      "outputs": [
        {
          "output_type": "execute_result",
          "data": {
            "text/plain": [
              "False"
            ]
          },
          "metadata": {},
          "execution_count": 34
        }
      ]
    },
    {
      "cell_type": "code",
      "source": [
        "#strip ( remove space in both side, right and left)\n",
        "temp_str=\"          hello world       \"\n",
        "temp_str.strip()"
      ],
      "metadata": {
        "colab": {
          "base_uri": "https://localhost:8080/",
          "height": 35
        },
        "id": "J7LpwZGxnX4x",
        "outputId": "cf8919c5-d980-41e9-b2ab-ceac610192b3"
      },
      "execution_count": null,
      "outputs": [
        {
          "output_type": "execute_result",
          "data": {
            "text/plain": [
              "'hello world'"
            ],
            "application/vnd.google.colaboratory.intrinsic+json": {
              "type": "string"
            }
          },
          "metadata": {},
          "execution_count": 35
        }
      ]
    },
    {
      "cell_type": "code",
      "source": [
        "##3Swapcase\n",
        "temp_str=\"I can dance all day, i love IT\"\n",
        "temp_str.swapcase()"
      ],
      "metadata": {
        "colab": {
          "base_uri": "https://localhost:8080/",
          "height": 35
        },
        "id": "cnDXw9xSnteC",
        "outputId": "00b4caf7-c9b6-4628-fd70-c5653bb07836"
      },
      "execution_count": null,
      "outputs": [
        {
          "output_type": "execute_result",
          "data": {
            "text/plain": [
              "'i CAN DANCE ALL DAY, I LOVE it'"
            ],
            "application/vnd.google.colaboratory.intrinsic+json": {
              "type": "string"
            }
          },
          "metadata": {},
          "execution_count": 38
        }
      ]
    },
    {
      "cell_type": "code",
      "source": [
        "##tittle ( it brings first character in upper case, other in lowercase)\n",
        "temp_str=\"i can dance all day, i love IT\"\n",
        "temp_str.title()\n",
        "emp_str=\"I can dance all day, i love it\"\n",
        "temp_str.title()\n"
      ],
      "metadata": {
        "colab": {
          "base_uri": "https://localhost:8080/",
          "height": 35
        },
        "id": "-JJCgSPZoBIV",
        "outputId": "1b8e0b29-cfb8-41da-e696-cdde4ebc01f2"
      },
      "execution_count": null,
      "outputs": [
        {
          "output_type": "execute_result",
          "data": {
            "text/plain": [
              "'I Can Dance All Day, I Love It'"
            ],
            "application/vnd.google.colaboratory.intrinsic+json": {
              "type": "string"
            }
          },
          "metadata": {},
          "execution_count": 43
        }
      ]
    },
    {
      "cell_type": "code",
      "source": [
        "###translate\n",
        "#temp_str={80:83,80:76} (# it will remove the duplicate, every key is unique, only the most recent value remain )\n",
        "print(temp_str)\n",
        "\n",
        "temp_str={'brand':'ford','model':'mustang','year':2018,'year':2022}\n",
        "print(temp_str)\n",
        "print(temp_str['year'])"
      ],
      "metadata": {
        "colab": {
          "base_uri": "https://localhost:8080/"
        },
        "id": "gX6MJRGlorXb",
        "outputId": "d2bf6915-2897-4fc3-e00d-39aa8fdfe72f"
      },
      "execution_count": null,
      "outputs": [
        {
          "output_type": "stream",
          "name": "stdout",
          "text": [
            "{'brand': 'ford', 'model': 'mustang', 'year': 2022}\n",
            "{'brand': 'ford', 'model': 'mustang', 'year': 2022}\n",
            "2022\n"
          ]
        }
      ]
    },
    {
      "cell_type": "code",
      "source": [
        "this_dict=dict(name='amrita', age=30, live='USA') ## if we use= sign then we can create dictionary using keys and value\n",
        "print(this_dict)"
      ],
      "metadata": {
        "colab": {
          "base_uri": "https://localhost:8080/"
        },
        "id": "BBs4vHN1qlE_",
        "outputId": "ac6b7a5b-2475-47c3-b330-8d572f6295f4"
      },
      "execution_count": null,
      "outputs": [
        {
          "output_type": "stream",
          "name": "stdout",
          "text": [
            "{'name': 'amrita', 'age': 30, 'live': 'USA'}\n"
          ]
        }
      ]
    },
    {
      "cell_type": "code",
      "source": [
        "#Assci code value  of S is 83 defaulty we replace it with 80 where which is p\n",
        "temp_dict={83:80}\n",
        "temp_str=\"Hello Sam\"\n",
        "temp_str.translate(temp_dict)"
      ],
      "metadata": {
        "colab": {
          "base_uri": "https://localhost:8080/",
          "height": 35
        },
        "id": "8b_GN9cFr9lo",
        "outputId": "6563fb5d-5fe4-4cd8-830f-f13032ce1ebc"
      },
      "execution_count": null,
      "outputs": [
        {
          "output_type": "execute_result",
          "data": {
            "text/plain": [
              "'Hello Pam'"
            ],
            "application/vnd.google.colaboratory.intrinsic+json": {
              "type": "string"
            }
          },
          "metadata": {},
          "execution_count": 59
        }
      ]
    },
    {
      "cell_type": "code",
      "source": [
        "###upper\n",
        "temp_str=\"i can dance all day, i love IT\"\n",
        "temp_str.upper()"
      ],
      "metadata": {
        "colab": {
          "base_uri": "https://localhost:8080/",
          "height": 35
        },
        "id": "R-Tw-XuDtxTb",
        "outputId": "25909e07-d7ac-48fe-b03e-47048eb9bd09"
      },
      "execution_count": null,
      "outputs": [
        {
          "output_type": "execute_result",
          "data": {
            "text/plain": [
              "'I CAN DANCE ALL DAY, I LOVE IT'"
            ],
            "application/vnd.google.colaboratory.intrinsic+json": {
              "type": "string"
            }
          },
          "metadata": {},
          "execution_count": 62
        }
      ]
    },
    {
      "cell_type": "code",
      "source": [
        "#zfill\n",
        "temp_str=\"i can dance all day, i love IT\"\n",
        "print(len(temp_str))\n",
        "print(temp_str.zfill(10)) ## doesnot add any zero in the beginning if the number falls within the length of character\n",
        "print(temp_str.zfill(40)) ## increses the lenth of character to meet the maximum lenth by adding zero in the beginning"
      ],
      "metadata": {
        "colab": {
          "base_uri": "https://localhost:8080/"
        },
        "id": "Tpy1hjBVuDlz",
        "outputId": "409921ae-771c-4739-db81-b49df1d8ee91"
      },
      "execution_count": null,
      "outputs": [
        {
          "output_type": "stream",
          "name": "stdout",
          "text": [
            "30\n",
            "i can dance all day, i love IT\n",
            "0000000000i can dance all day, i love IT\n"
          ]
        }
      ]
    }
  ]
}