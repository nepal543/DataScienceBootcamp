{
  "nbformat": 4,
  "nbformat_minor": 0,
  "metadata": {
    "colab": {
      "provenance": [],
      "authorship_tag": "ABX9TyNfrLfq//8Peh3/T/xQGmWx",
      "include_colab_link": true
    },
    "kernelspec": {
      "name": "python3",
      "display_name": "Python 3"
    },
    "language_info": {
      "name": "python"
    }
  },
  "cells": [
    {
      "cell_type": "markdown",
      "metadata": {
        "id": "view-in-github",
        "colab_type": "text"
      },
      "source": [
        "<a href=\"https://colab.research.google.com/github/nepal543/DataScienceBootcamp/blob/main/Project/Rock_paper_Scissor.ipynb\" target=\"_parent\"><img src=\"https://colab.research.google.com/assets/colab-badge.svg\" alt=\"Open In Colab\"/></a>"
      ]
    },
    {
      "cell_type": "code",
      "execution_count": null,
      "metadata": {
        "id": "ka48LJ9tWAKt"
      },
      "outputs": [],
      "source": []
    },
    {
      "cell_type": "markdown",
      "source": [
        " Rules\n",
        "#The game should only stop when the user wins! If its a tie or user loses game should continue\n",
        "#Rock smashes scissors.\n",
        "#Paper covers rock.\n",
        "#Scissors cut paper.\n",
        "\n",
        " choices in total\n",
        "paper\n",
        "rock\n",
        "scissor\n",
        "# rock smashes scissor ## if player 1 select rock and player 2 select scissor, player 1 wins\n",
        "paper cover rock: if player 1 select paper and player 2 select rock, player 1wins\n",
        "scissor cuts paper: if player 1 select scissor and player 2 select paper, player 1wins"
      ],
      "metadata": {
        "id": "IyFqXPweWDxX"
      }
    },
    {
      "cell_type": "code",
      "source": [
        "import random\n",
        "possible_actions = [\"rock\", \"paper\", \"scissors\"]\n",
        "computer_action = random.choice(possible_actions)\n",
        "computer_action"
      ],
      "metadata": {
        "colab": {
          "base_uri": "https://localhost:8080/",
          "height": 35
        },
        "id": "KHi5ksYhYfRT",
        "outputId": "a64f7d45-5139-4845-d311-fed5b3b9f796"
      },
      "execution_count": null,
      "outputs": [
        {
          "output_type": "execute_result",
          "data": {
            "text/plain": [
              "'rock'"
            ],
            "application/vnd.google.colaboratory.intrinsic+json": {
              "type": "string"
            }
          },
          "metadata": {},
          "execution_count": 53
        }
      ]
    },
    {
      "cell_type": "code",
      "source": [
        "import random\n",
        "possible_actions = [\"rock\", \"paper\", \"scissors\"]\n",
        "computer_action = random.choice(possible_actions)\n",
        "#computer_action\n",
        "#user_input=input(\"Please make a choice from rock, paper, scissors: \").lower()\n",
        "#possible_actions_action=[\"rock\", \"paper\", \"scissors\"]\n",
        "import random\n",
        "def get_user_input():\n",
        "\n",
        " while True:\n",
        "  user_input=input(\"Please make a choice from rock, paper, scissors: \").lower()\n",
        "  if user_input is [\"rock\", \"paper\", \"scissors\"]:\n",
        "    return user_input\n",
        "  else:\n",
        "    print('You have to choose only rock,paper,scissors')\n",
        "\n",
        "def get_computer_action():\n",
        "  possible_actions=[\"rock\",\"paper\", \"scissors\"]\n",
        "  return random.choice(possible_actions)\n",
        "\n",
        "\n",
        "def winner():\n",
        "\n",
        " if user_input==computer_action:\n",
        "   print('It is a tie')\n",
        " elif user_input=='rock':\n",
        "  if computer_action=='scissors':\n",
        "   print('Congratulations! You are the winner','Rock smashes scissors')\n",
        "  else:\n",
        "   print('You are not the winner')\n",
        " elif user_input=='paper':\n",
        "  if computer_action=='rock':\n",
        "    print('Congratulations! You are the winner','paper cover rocks')\n",
        "  else:\n",
        "   print('You are not the winner')\n",
        "\n",
        " elif  user_input=='scissors':\n",
        "   if computer_action=='paper':\n",
        "    print('Congratulations! You are the winner','scissors cuts paper')\n",
        "   else:\n",
        "    print('You are not the winner')\n",
        "\n",
        "\n",
        "\n"
      ],
      "metadata": {
        "id": "lcU2935vYljS"
      },
      "execution_count": null,
      "outputs": []
    }
  ]
}