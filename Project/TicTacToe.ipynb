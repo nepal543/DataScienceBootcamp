{
  "nbformat": 4,
  "nbformat_minor": 0,
  "metadata": {
    "colab": {
      "provenance": [],
      "authorship_tag": "ABX9TyPJAiFhYVPAmpHkzXYgEnSu",
      "include_colab_link": true
    },
    "kernelspec": {
      "name": "python3",
      "display_name": "Python 3"
    },
    "language_info": {
      "name": "python"
    }
  },
  "cells": [
    {
      "cell_type": "markdown",
      "metadata": {
        "id": "view-in-github",
        "colab_type": "text"
      },
      "source": [
        "<a href=\"https://colab.research.google.com/github/nepal543/DataScienceBootcamp/blob/main/Project/TicTacToe.ipynb\" target=\"_parent\"><img src=\"https://colab.research.google.com/assets/colab-badge.svg\" alt=\"Open In Colab\"/></a>"
      ]
    },
    {
      "cell_type": "code",
      "execution_count": null,
      "metadata": {
        "id": "Ju9no83RnHlp"
      },
      "outputs": [],
      "source": []
    },
    {
      "cell_type": "markdown",
      "source": [
        "Creating a tic-tac-toe game between computer and human\n",
        "# 1st user will enter his name\n",
        "# user wil choice X or O\n",
        "# randomly first turn will be decided\n",
        "# After each turn show Board with replaced Indexes by X or O\n",
        "# If no one wins and board is full say its a draw\n",
        "# Win conditions are horizontal match or vertical match or diagonal match\n",
        "# ask user if we wants to play again at end of game"
      ],
      "metadata": {
        "id": "lSBJQ2VBnIG8"
      }
    },
    {
      "cell_type": "code",
      "source": [],
      "metadata": {
        "id": "5kaAHVBNnNJl"
      },
      "execution_count": 3,
      "outputs": []
    },
    {
      "cell_type": "code",
      "source": [
        "import random\n",
        "random.choices([0,1])\n",
        "possible_numbers=[1,2,3,4,5,6,7,8,9]\n",
        "board=[[1,2,3],[4,5,6],[7,8,9]]\n",
        "rows=3\n",
        "colums=3\n",
        "\n",
        "board = [\" \" for x in range(9)]\n",
        "def print_board():\n",
        "    row1 = \"| {} | {} | {} |\".format(board[0], board[1], board[2])\n",
        "    row2 = \"| {} | {} | {} |\".format(board[3], board[4], board[5])\n",
        "    row3 = \"| {} | {} | {} |\".format(board[6], board[7], board[8])\n",
        "    print()\n",
        "    print(row1)\n",
        "    print(row2)\n",
        "    print(row3)\n",
        "    print()\n",
        "def player_move(icon):\n",
        "    if icon == \"X\":\n",
        "        number = 1\n",
        "    elif icon == \"O\":\n",
        "        number = 2\n",
        "    print(\"Your turn player {}\".format(number))\n",
        "    choice = int(input(\"Enter your move (1-9): \").strip())\n",
        "    if board[choice - 1] == \" \":\n",
        "        board[choice - 1] = icon\n",
        "    else:\n",
        "        print()\n",
        "        print(\"That space is taken!\")\n",
        "def wins(icon):\n",
        "    if (board[0] == icon and board[1] == icon and board[2] == icon) or \\\n",
        "       (board[3] == icon and board[4] == icon and board[5] == icon) or \\\n",
        "       (board[6] == icon and board[7] == icon and board[8] == icon) or \\\n",
        "       (board[0] == icon and board[3] == icon and board[6] == icon) or \\\n",
        "       (board[1] == icon and board[4] == icon and board[7] == icon) or \\\n",
        "       (board[2] == icon and board[5] == icon and board[8] == icon) or \\\n",
        "       (board[0] == icon and board[4] == icon and board[8] == icon) or \\\n",
        "       (board[2] == icon and board[4] == icon and board[6] == icon):\n",
        "        return True\n",
        "    else:\n",
        "        return False\n",
        "def draw():\n",
        "    if \" \" not in board:\n",
        "        return True\n",
        "    else:\n",
        "        return False\n",
        "while True:\n",
        "    print_board()\n",
        "    player_move(\"X\")\n",
        "    print_board()\n",
        "    if wins (\"X\"):\n",
        "        print(\"Congratulations! X wins\")\n",
        "        break\n",
        "    elif draw():\n",
        "        print(\"It is  a draw!\")\n",
        "        break\n",
        "    player_move(\"O\")\n",
        "    if wins(\"O\"):\n",
        "        print_board()\n",
        "        print(\"Congratulations! O wins!\")\n",
        "        break\n",
        "    elif draw():\n",
        "        print(\"It's a draw!\")\n",
        "        break\n",
        "\n"
      ],
      "metadata": {
        "colab": {
          "base_uri": "https://localhost:8080/"
        },
        "id": "rLUXYgvQsLXu",
        "outputId": "bbe318c7-dc5b-4786-946d-dce703238e8f"
      },
      "execution_count": null,
      "outputs": [
        {
          "output_type": "stream",
          "name": "stdout",
          "text": [
            "\n",
            "|   |   |   |\n",
            "|   |   |   |\n",
            "|   |   |   |\n",
            "\n",
            "Your turn player 1\n"
          ]
        }
      ]
    }
  ]
}